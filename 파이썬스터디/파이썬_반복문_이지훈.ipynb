{
  "nbformat": 4,
  "nbformat_minor": 0,
  "metadata": {
    "colab": {
      "provenance": []
    },
    "kernelspec": {
      "name": "python3",
      "display_name": "Python 3"
    },
    "language_info": {
      "name": "python"
    }
  },
  "cells": [
    {
      "cell_type": "markdown",
      "source": [
        "01\n",
        "\n",
        "for문의 실행결과를 예측하라.\n",
        "\n",
        "```\n",
        "과일 = [\"사과\", \"귤\", \"수박\"]\n",
        "for 변수 in 과일:\n",
        "    print(변수)\n",
        "\n",
        "```"
      ],
      "metadata": {
        "id": "nj3TlapiH5L7"
      }
    },
    {
      "cell_type": "code",
      "source": [
        "과일 = [\"사과\", \"귤\", \"수박\"]\n",
        "for 변수 in 과일:\n",
        "    print(변수)\n",
        "#과일 들어있는 문자열(\"사과\", \"귤\", \"수박\")이 한 라인에 하나씩 출력"
      ],
      "metadata": {
        "id": "daXA4ISFH4t-",
        "colab": {
          "base_uri": "https://localhost:8080/"
        },
        "outputId": "4c1351b3-7897-47b8-aa17-2b8a592a5663"
      },
      "execution_count": null,
      "outputs": [
        {
          "output_type": "stream",
          "name": "stdout",
          "text": [
            "사과\n",
            "귤\n",
            "수박\n"
          ]
        }
      ]
    },
    {
      "cell_type": "markdown",
      "source": [
        "02\n",
        "\n",
        "for문의 실행결과를 예측하라.\n",
        "\n",
        "```\n",
        "과일 = [\"사과\", \"귤\", \"수박\"]\n",
        "for 변수 in 과일:\n",
        "  print(\"#####\")\n",
        "```"
      ],
      "metadata": {
        "id": "-IlHn2gZIZd_"
      }
    },
    {
      "cell_type": "code",
      "execution_count": null,
      "metadata": {
        "id": "D1wrhEPoH0q4",
        "colab": {
          "base_uri": "https://localhost:8080/"
        },
        "outputId": "d722b276-7668-453d-e5f8-05399f3286e7"
      },
      "outputs": [
        {
          "output_type": "stream",
          "name": "stdout",
          "text": [
            "#####\n",
            "#####\n",
            "#####\n"
          ]
        }
      ],
      "source": [
        "과일 = [\"사과\", \"귤\", \"수박\"]\n",
        "for 변수 in 과일:\n",
        "  print(\"#####\")\n",
        "#과일 에는 세 개의 데이터(\"사과\", \"귤\", \"수박\")가 저장돼 있으므로 ####이 세 번 실행"
      ]
    },
    {
      "cell_type": "markdown",
      "source": [
        "03\n",
        "\n",
        "다음 for 문과 동일한 기능을 수행하는 코드를 작성하세요.\n",
        "\n",
        "```\n",
        "for 변수 in [\"A\", \"B\", \"C\"]:\n",
        "  print(변수)\n",
        "```"
      ],
      "metadata": {
        "id": "y63R3vi1Ie9-"
      }
    },
    {
      "cell_type": "code",
      "source": [
        "'''\n",
        "for 변수 in [\"A\", \"B\", \"C\"]:\n",
        "  print(변수)\n",
        "'''\n",
        "# 변수안에담긴 데이터 갯수만큼 3번(\"A\", \"B\", \"C\")반복 하므로 for문을 풀어쓰면 아래와 같다\n",
        "\n",
        "print(\"A\")\n",
        "print(\"B\")\n",
        "print(\"C\")\n"
      ],
      "metadata": {
        "id": "HVfkYSGSIiUd",
        "colab": {
          "base_uri": "https://localhost:8080/"
        },
        "outputId": "55377b19-0850-4093-b7a4-fc4df6fc71ba"
      },
      "execution_count": null,
      "outputs": [
        {
          "output_type": "stream",
          "name": "stdout",
          "text": [
            "A\n",
            "B\n",
            "C\n"
          ]
        }
      ]
    },
    {
      "cell_type": "markdown",
      "source": [
        "04\n",
        "\n",
        "for문을 풀어서 동일한 동작을하는 코드를 작성하라.\n",
        "\n",
        "```\n",
        "for 변수 in [\"A\", \"B\", \"C\"]:\n",
        "  print(\"출력:\", 변수)\n",
        "```"
      ],
      "metadata": {
        "id": "ugFsFUIOIjV2"
      }
    },
    {
      "cell_type": "code",
      "source": [
        "'''\n",
        "for 변수 in [\"A\", \"B\", \"C\"]:\n",
        "  print(\"출력:\", 변수)\n",
        "'''\n",
        "# 변수안에 담긴 데이터 갯수만큼 3번(\"A\", \"B\", \"C\")반복 하므로 for문을 풀어쓰면 아래와 같다\n",
        "\n",
        "변수 = \"A\"\n",
        "print(\"출력:\", 변수)\n",
        "변수 = \"B\"\n",
        "print(\"출력:\", 변수)\n",
        "변수 = \"C\"\n",
        "print(\"출력:\", 변수)"
      ],
      "metadata": {
        "id": "5elfVCaGIlu5",
        "colab": {
          "base_uri": "https://localhost:8080/"
        },
        "outputId": "aa3f5329-2482-4aaf-d304-d653c11ad1a0"
      },
      "execution_count": null,
      "outputs": [
        {
          "output_type": "stream",
          "name": "stdout",
          "text": [
            "출력: A\n",
            "출력: B\n",
            "출력: C\n",
            "출력: A\n",
            "출력: B\n",
            "출력: C\n"
          ]
        }
      ]
    },
    {
      "cell_type": "markdown",
      "source": [
        "05\n",
        "\n",
        "for문을 풀어서 동일한 동작을 하는 코드를 작성하라.\n",
        "\n",
        "```\n",
        "for 변수 in [\"A\", \"B\", \"C\"]:\n",
        "  b = 변수.lower()\n",
        "  print(\"변환:\", b)\n",
        "```"
      ],
      "metadata": {
        "id": "LnsnBSOdInw9"
      }
    },
    {
      "cell_type": "code",
      "source": [
        "'''\n",
        "for 변수 in [\"A\", \"B\", \"C\"]:\n",
        "  b = 변수.lower()\n",
        "  print(\"변환:\", b)\n",
        "'''\n",
        "#\"A\", \"B\", \"C\" 를 담은 변수를 선언하고 b변수에 .lower()함수를 통해 소문자로 변경하여 한문장씩 출력\n",
        "\n",
        "#for문을 풀어쓰면 아래와같음\n",
        "변수 = \"A\"\n",
        "b = 변수.lower()\n",
        "print(\"변환:\", b)\n",
        "변수 = \"B\"\n",
        "b = 변수.lower()\n",
        "print(\"변환:\", b)\n",
        "변수 = \"C\"\n",
        "b = 변수.lower()\n",
        "print(\"변환:\", b)\n",
        "\n"
      ],
      "metadata": {
        "id": "1ngoFd7EIrAo",
        "colab": {
          "base_uri": "https://localhost:8080/"
        },
        "outputId": "0f1a3fd5-bb66-4261-ed91-0cc358e4b4b7"
      },
      "execution_count": null,
      "outputs": [
        {
          "output_type": "stream",
          "name": "stdout",
          "text": [
            "변환: a\n",
            "변환: b\n",
            "변환: c\n"
          ]
        }
      ]
    },
    {
      "cell_type": "markdown",
      "source": [
        "06\n",
        "\n",
        "다음 코드를 for문으로 작성하라.\n",
        "\n",
        "```\n",
        "변수 = 10\n",
        "print(변수)\n",
        "변수 = 20\n",
        "print(변수)\n",
        "변수 = 30\n",
        "print(변수)\n",
        "```"
      ],
      "metadata": {
        "id": "fWee8nxXItat"
      }
    },
    {
      "cell_type": "code",
      "source": [
        "for i in [10, 20, 30]: #10, 20, 30을 담고있는 i의 데이터 갯수(3번) 만큼 반복\n",
        "    print('변수 =',i) #데이터 하나씩 출력(총 3번/10, 20, 30)\n",
        "\n",
        "for i in range(10,31,10): #i가 10부터 31전까지 10번의 스텝으로 증가\n",
        "    print('변수 =',i) #데이터 하나씩 출력(총 3번/10, 20, 30)"
      ],
      "metadata": {
        "id": "Ts11q_cRIw7Q",
        "colab": {
          "base_uri": "https://localhost:8080/"
        },
        "outputId": "dac05511-f5e6-47f8-f3a1-bbf43d329a41"
      },
      "execution_count": null,
      "outputs": [
        {
          "output_type": "stream",
          "name": "stdout",
          "text": [
            "변수 = 10\n",
            "변수 = 20\n",
            "변수 = 30\n",
            "변수 = 10\n",
            "변수 = 20\n",
            "변수 = 30\n"
          ]
        }
      ]
    },
    {
      "cell_type": "markdown",
      "source": [
        "07\n",
        "\n",
        "다음 코드를 for문으로 작성하라.\n",
        "\n",
        "```\n",
        "print(10)\n",
        "print(20)\n",
        "print(30)\n",
        "```"
      ],
      "metadata": {
        "id": "JVBw3URdIyd4"
      }
    },
    {
      "cell_type": "code",
      "source": [
        "for i in [10, 20, 30]: #10, 20, 30을 담고있는 i의 데이터 갯수(3번) 만큼 반복\n",
        "  print(i) #데이터 하나씩 출력(총 3번/10, 20, 30)"
      ],
      "metadata": {
        "id": "XLvKeXuiI2HH",
        "colab": {
          "base_uri": "https://localhost:8080/"
        },
        "outputId": "5087d931-9243-4d09-8a36-4d8ec09b82a4"
      },
      "execution_count": null,
      "outputs": [
        {
          "output_type": "stream",
          "name": "stdout",
          "text": [
            "10\n",
            "20\n",
            "30\n"
          ]
        }
      ]
    },
    {
      "cell_type": "markdown",
      "source": [
        "08\n",
        "\n",
        "다음 코드를 for문으로 작성하라.\n",
        "\n",
        "```\n",
        "print(10)\n",
        "print(\"-------\")\n",
        "print(20)\n",
        "print(\"-------\")\n",
        "print(30)\n",
        "print(\"-------\")\n",
        "```"
      ],
      "metadata": {
        "id": "2sDzJxplI3Jx"
      }
    },
    {
      "cell_type": "code",
      "source": [
        "for i in [10, 20, 30]: #10, 20, 30을 담고있는 i의 데이터 갯수(3번) 만큼 반복\n",
        "  print(i) #데이터 하나씩 출력(총 3번/10, 20, 30)\n",
        "  print('-------') #데이터 하나씩 출력(총 3번)\n",
        "\n",
        "\n",
        "for i in range(10,31,10): #i가 10부터 31전까지 10번의 스텝으로 증가\n",
        "  print(i) #데이터 하나씩 출력(총 3번/10, 20, 30)\n",
        "  print('-------') #데이터 하나씩 출력(총 3번)"
      ],
      "metadata": {
        "id": "z-XVoPVcI6s3",
        "colab": {
          "base_uri": "https://localhost:8080/"
        },
        "outputId": "46666d38-be75-4bb3-e086-d0b2e705b68f"
      },
      "execution_count": null,
      "outputs": [
        {
          "output_type": "stream",
          "name": "stdout",
          "text": [
            "10\n",
            "-------\n",
            "20\n",
            "-------\n",
            "30\n",
            "-------\n"
          ]
        }
      ]
    },
    {
      "cell_type": "markdown",
      "source": [
        "09\n",
        "\n",
        "다음 코드를 for문으로 작성하라.\n",
        "\n",
        "```\n",
        "print(\"++++\")\n",
        "print(10)\n",
        "print(20)\n",
        "print(30)\n",
        "```"
      ],
      "metadata": {
        "id": "0oFn1hEnI-Y4"
      }
    },
    {
      "cell_type": "code",
      "source": [
        "print('++++') #반복문 밖에서 한번만 출력\n",
        "for i in [10, 20, 30]: #10, 20, 30을 담고있는 i의 데이터 갯수(3번) 만큼 반복\n",
        "  print(i) #데이터 하나씩 출력(총 3번/10, 20, 30)\n"
      ],
      "metadata": {
        "id": "2EHBT0GUJAa3",
        "colab": {
          "base_uri": "https://localhost:8080/"
        },
        "outputId": "37691eb4-b4dc-402b-c739-0dd512b24b3f"
      },
      "execution_count": null,
      "outputs": [
        {
          "output_type": "stream",
          "name": "stdout",
          "text": [
            "++++\n",
            "10\n",
            "20\n",
            "30\n"
          ]
        }
      ]
    },
    {
      "cell_type": "markdown",
      "source": [],
      "metadata": {
        "id": "O48622w9PokG"
      }
    },
    {
      "cell_type": "markdown",
      "source": [
        "10\n",
        "\n",
        "다음 코드를 for문으로 작성하라.\n",
        "\n",
        "```\n",
        "print(\"-------\")\n",
        "print(\"-------\")\n",
        "print(\"-------\")\n",
        "print(\"-------\")\n",
        "```"
      ],
      "metadata": {
        "id": "s27YnAUAJB1q"
      }
    },
    {
      "cell_type": "code",
      "source": [
        "for i in range(4): #i에 0부터 3까지 생성후 생성된 숫자 만큼 반복\n",
        "  print('-------') #총 4번 출력(0,1,2,3)"
      ],
      "metadata": {
        "id": "s5YJV3lDJDwW",
        "colab": {
          "base_uri": "https://localhost:8080/"
        },
        "outputId": "3bd9f88b-503d-47c1-e9d4-4e0b7c09e868"
      },
      "execution_count": null,
      "outputs": [
        {
          "output_type": "stream",
          "name": "stdout",
          "text": [
            "-------\n",
            "-------\n",
            "-------\n",
            "-------\n"
          ]
        }
      ]
    },
    {
      "cell_type": "markdown",
      "source": [
        "11\n",
        "\n",
        "다음과 같이 판매가가 저장된 리스트가 있을 때 부가세가 포함된 가격을 for 문을 사용해서 화면에 출력하라. 단 부가세는 10원으로 가정한다.\n",
        "\n",
        "```\n",
        "리스트 = [100, 200, 300]\n",
        "```\n",
        "```\n",
        "110\n",
        "210\n",
        "310\n",
        "```"
      ],
      "metadata": {
        "id": "UvtyvvC0JH5i"
      }
    },
    {
      "cell_type": "code",
      "source": [
        "slist = [100, 200, 300]\n",
        "for i in slist:\n",
        "  print(i+10)"
      ],
      "metadata": {
        "id": "VDjvFSV3JMHP",
        "colab": {
          "base_uri": "https://localhost:8080/"
        },
        "outputId": "da1168b0-3de8-4351-9b9b-f8a9e8a8427a"
      },
      "execution_count": null,
      "outputs": [
        {
          "output_type": "stream",
          "name": "stdout",
          "text": [
            "110\n",
            "210\n",
            "310\n"
          ]
        }
      ]
    },
    {
      "cell_type": "markdown",
      "source": [
        "12\n",
        "\n",
        "for 문을 사용해서 리스트에 저장된 값을 다음과 같이 출력하라.\n",
        "```\n",
        "리스트 = [\"김밥\", \"라면\", \"튀김\"]\n",
        "```\n",
        "```\n",
        "오늘의 메뉴: 김밥\n",
        "오늘의 메뉴: 라면\n",
        "오늘의 메뉴: 튀김\n",
        "```"
      ],
      "metadata": {
        "id": "9vHlClebJNW_"
      }
    },
    {
      "cell_type": "code",
      "source": [
        "slist = [\"김밥\", \"라면\", \"튀김\"]\n",
        "\n",
        "for i in slist: #리스트의 데이터 갯수만큼 반복\n",
        "  print(\"오늘의메뉴:\", i) #리스트안에 데이터를 하나씩 출력 총 3번"
      ],
      "metadata": {
        "id": "cRjsTI40JP-n",
        "colab": {
          "base_uri": "https://localhost:8080/"
        },
        "outputId": "e621856c-16a8-4bb2-8afe-0075de5626f0"
      },
      "execution_count": null,
      "outputs": [
        {
          "output_type": "stream",
          "name": "stdout",
          "text": [
            "오늘의메뉴: 김밥\n",
            "오늘의메뉴: 라면\n",
            "오늘의메뉴: 튀김\n"
          ]
        }
      ]
    },
    {
      "cell_type": "markdown",
      "source": [
        "13\n",
        "\n",
        "리스트에 주식 종목이름이 저장돼 있다.\n",
        "\n",
        "```\n",
        "리스트 = [\"SK하이닉스\", \"삼성전자\", \"LG전자\"]\n",
        "```\n",
        "\n",
        "저장된 문자열의 길이를 다음과 같이 출력하라.\n",
        "```\n",
        "6\n",
        "4\n",
        "4\n",
        "```"
      ],
      "metadata": {
        "id": "ta3rV3l5JSAp"
      }
    },
    {
      "cell_type": "code",
      "source": [
        "slist = [\"SK하이닉스\", \"삼성전자\", \"LG전자\"]\n",
        "\n",
        "for i in slist:\n",
        "  leng = len(i)\n",
        "  print(leng)"
      ],
      "metadata": {
        "id": "sUHH3BZVJVU-",
        "colab": {
          "base_uri": "https://localhost:8080/"
        },
        "outputId": "6e3fd839-7bfc-43c6-9d8b-7c32f7c85030"
      },
      "execution_count": null,
      "outputs": [
        {
          "output_type": "stream",
          "name": "stdout",
          "text": [
            "6\n",
            "4\n",
            "4\n"
          ]
        }
      ]
    },
    {
      "cell_type": "markdown",
      "source": [
        "14\n",
        "\n",
        "리스트에는 동물이름이 문자열로 저장돼 있다.\n",
        "\n",
        "```\n",
        "리스트 = ['dog', 'cat', 'parrot']\n",
        "```\n",
        "\n",
        "동물 이름과 글자수를 다음과 같이 출력하라.\n",
        "\n",
        "```\n",
        "dog 3\n",
        "cat 3\n",
        "parrot 6\n",
        "```"
      ],
      "metadata": {
        "id": "a2CPgXHkJW9L"
      }
    },
    {
      "cell_type": "code",
      "source": [
        "slist = ['dog', 'cat', 'parrot']\n",
        "\n",
        "for i in slist:\n",
        "  leng = len(i)\n",
        "  print(i,leng)"
      ],
      "metadata": {
        "id": "EWHBV3YaJdLn",
        "colab": {
          "base_uri": "https://localhost:8080/"
        },
        "outputId": "34ca5ac0-d1f8-41be-9c32-4b9ec1d1da71"
      },
      "execution_count": null,
      "outputs": [
        {
          "output_type": "stream",
          "name": "stdout",
          "text": [
            "dog 3\n",
            "cat 3\n",
            "parrot 6\n"
          ]
        }
      ]
    },
    {
      "cell_type": "markdown",
      "source": [
        "15\n",
        "\n",
        "리스트에 동물 이름 저장돼 있다.\n",
        "\n",
        "```\n",
        "리스트 = ['dog', 'cat', 'parrot']\n",
        "```\n",
        "for문을 사용해서 동물 이름의 첫 글자만 출력하라.\n",
        "```\n",
        "d\n",
        "c\n",
        "p\n",
        "```"
      ],
      "metadata": {
        "id": "F9XzfitTJfKo"
      }
    },
    {
      "cell_type": "code",
      "source": [
        "slist = ['dog', 'cat', 'parrot']\n",
        "for i in slist: #리스트의 데이터 갯수만큼 반복(3번)\n",
        "  print(i[0]) #리스트안에 데이터를 0번째 인덱스만 하나씩 출력 총 3번\n"
      ],
      "metadata": {
        "id": "snm3tWIjJhd-",
        "colab": {
          "base_uri": "https://localhost:8080/"
        },
        "outputId": "ed23ef2a-cb5d-4570-cbc1-adbd4b6ba049"
      },
      "execution_count": null,
      "outputs": [
        {
          "output_type": "stream",
          "name": "stdout",
          "text": [
            "d\n",
            "c\n",
            "p\n"
          ]
        }
      ]
    },
    {
      "cell_type": "markdown",
      "source": [
        "16\n",
        "\n",
        "리스트에는 세 개의 숫자가 바인딩돼 있다.\n",
        "\n",
        "```\n",
        "리스트 = [1, 2, 3]\n",
        "```\n",
        "\n",
        "for문을 사용해서 다음과 같이 출력하라.\n",
        "```\n",
        "3 x 1\n",
        "3 x 2\n",
        "3 x 3\n",
        "```"
      ],
      "metadata": {
        "id": "hAynRh5oJkoC"
      }
    },
    {
      "cell_type": "code",
      "source": [
        "slist = [1, 2, 3]\n",
        "\n",
        "for i in slist:\n",
        "  print(3, \"X\", i)"
      ],
      "metadata": {
        "id": "bp3yhyIhJnu2",
        "colab": {
          "base_uri": "https://localhost:8080/"
        },
        "outputId": "c877ddb0-057c-4d24-8204-36c2e3ff4cad"
      },
      "execution_count": null,
      "outputs": [
        {
          "output_type": "stream",
          "name": "stdout",
          "text": [
            "3 X 1\n",
            "3 X 2\n",
            "3 X 3\n"
          ]
        }
      ]
    },
    {
      "cell_type": "markdown",
      "source": [
        "17\n",
        "\n",
        "리스트에는 세 개의 숫자가 바인딩돼 있다.\n",
        "\n",
        "```\n",
        "리스트 = [1, 2, 3]\n",
        "```\n",
        "for문을 사용해서 다음과 같이 출력하라.\n",
        "```\n",
        "3 x 1 = 3\n",
        "3 x 2 = 6\n",
        "3 x 3 = 9\n",
        "```"
      ],
      "metadata": {
        "id": "YQVozpP8JpUa"
      }
    },
    {
      "cell_type": "code",
      "source": [
        "리스트 = [1, 2, 3]\n",
        "\n",
        "for i in slist:\n",
        "  print(3, \"X\", i,\"=\",3*i)"
      ],
      "metadata": {
        "id": "nBz6rgCmJsjG",
        "colab": {
          "base_uri": "https://localhost:8080/"
        },
        "outputId": "0b484151-c8e9-4c36-9d01-e49201412823"
      },
      "execution_count": null,
      "outputs": [
        {
          "output_type": "stream",
          "name": "stdout",
          "text": [
            "3 X 1 = 3\n",
            "3 X 2 = 6\n",
            "3 X 3 = 9\n"
          ]
        }
      ]
    },
    {
      "cell_type": "markdown",
      "source": [
        "18\n",
        "\n",
        "리스트에는 네 개의 문자열이 바인딩돼 있다.\n",
        "\n",
        "```\n",
        "리스트 = [\"가\", \"나\", \"다\", \"라\"]\n",
        "```\n",
        "for문을 사용해서 다음과 같이 출력하라.\n",
        "```\n",
        "나\n",
        "다\n",
        "라\n",
        "```"
      ],
      "metadata": {
        "id": "E8QtxaNXJtn6"
      }
    },
    {
      "cell_type": "code",
      "source": [
        "slist = [\"가\", \"나\", \"다\", \"라\"]\n",
        "\n",
        "for i in range(1, len(slist)): #1번째 인덱스부터 리스트의 길이까지 반복(3번)\n",
        "  print(slist[i]) #1번째 인덱스부터 하나씩 출력"
      ],
      "metadata": {
        "id": "X7K7V6LCJwuO",
        "colab": {
          "base_uri": "https://localhost:8080/"
        },
        "outputId": "a27c5fc6-99cb-45c3-b6ef-c27870e4ea6f"
      },
      "execution_count": null,
      "outputs": [
        {
          "output_type": "stream",
          "name": "stdout",
          "text": [
            "나\n",
            "다\n",
            "라\n"
          ]
        }
      ]
    },
    {
      "cell_type": "markdown",
      "source": [
        "19\n",
        "\n",
        "리스트에는 네 개의 문자열이 바인딩돼 있다.\n",
        "```\n",
        "리스트 = [\"가\", \"나\", \"다\", \"라\"]\n",
        "```\n",
        "for문을 사용해서 다음과 같이 출력하라.\n",
        "```\n",
        "가\n",
        "다\n",
        "```"
      ],
      "metadata": {
        "id": "4iJw6hJ4Jxzv"
      }
    },
    {
      "cell_type": "code",
      "source": [],
      "metadata": {
        "id": "gS3AjcI8iwKY"
      },
      "execution_count": null,
      "outputs": []
    },
    {
      "cell_type": "code",
      "source": [
        "slist = [\"가\", \"나\", \"다\", \"라\"]\n",
        "\n",
        "for i in range(0, len(slist),2):\n",
        "  print(slist[i])"
      ],
      "metadata": {
        "id": "E4cprX7uJz8G",
        "colab": {
          "base_uri": "https://localhost:8080/"
        },
        "outputId": "87074fb2-7721-4a07-b2b4-a91f600de433"
      },
      "execution_count": null,
      "outputs": [
        {
          "output_type": "stream",
          "name": "stdout",
          "text": [
            "가\n",
            "다\n"
          ]
        }
      ]
    },
    {
      "cell_type": "markdown",
      "source": [
        "20\n",
        "\n",
        "리스트에는 네 개의 문자열이 바인딩돼 있다.\n",
        "\n",
        "```\n",
        "리스트 = [\"가\", \"나\", \"다\", \"라\"]\n",
        "```\n",
        "for문을 사용해서 다음과 같이 출력하라.\n",
        "```\n",
        "라\n",
        "다\n",
        "나\n",
        "가\n",
        "```"
      ],
      "metadata": {
        "id": "epf3OrxVJ1HF"
      }
    },
    {
      "cell_type": "code",
      "source": [
        "slist = [\"가\", \"나\", \"다\", \"라\"]\n",
        "\n",
        "for i in range(len(slist)-1, -1, -1):\n",
        "  print(slist[i])"
      ],
      "metadata": {
        "id": "7CwSxNumJ3LW",
        "colab": {
          "base_uri": "https://localhost:8080/"
        },
        "outputId": "5b2cb813-8fe6-4fe2-fe8d-cbb97aeb5e56"
      },
      "execution_count": null,
      "outputs": [
        {
          "output_type": "stream",
          "name": "stdout",
          "text": [
            "라\n",
            "다\n",
            "나\n",
            "가\n"
          ]
        }
      ]
    },
    {
      "cell_type": "markdown",
      "source": [
        "21\n",
        "\n",
        "리스트에는 네 개의 정수가 저장돼 있다.\n",
        "\n",
        "```\n",
        "리스트 = [3, -20, -3, 44]\n",
        "```\n",
        "\n",
        "for문을 사용해서 리스트의 음수를 출력하라.\n",
        "```\n",
        "-20\n",
        "-3\n",
        "```"
      ],
      "metadata": {
        "id": "pE9fIqHDJ9s0"
      }
    },
    {
      "cell_type": "code",
      "source": [
        "slist = [3, -20, -3, 44]\n",
        "\n",
        "for i in  slist: #리스트의 데이터 갯수만큼 반복(4번)\n",
        "  if i < 0: #리스트안에 데이터를 하나씩 비교한 값이 0보다 작을때\n",
        "    print(i)#출력"
      ],
      "metadata": {
        "id": "dqe1ETKvKAlG",
        "colab": {
          "base_uri": "https://localhost:8080/"
        },
        "outputId": "d227b9db-4e51-4839-9082-f241e3c4f471"
      },
      "execution_count": null,
      "outputs": [
        {
          "output_type": "stream",
          "name": "stdout",
          "text": [
            "-20\n",
            "-3\n"
          ]
        }
      ]
    },
    {
      "cell_type": "markdown",
      "source": [
        "22\n",
        "\n",
        "for문을 사용해서 3의 배수만을 출력하라.\n",
        "\n",
        "```\n",
        "리스트 = [3, 100, 23, 44]\n",
        "```\n",
        "```\n",
        "3\n",
        "```"
      ],
      "metadata": {
        "id": "rPp1HHYqKCP0"
      }
    },
    {
      "cell_type": "code",
      "source": [
        "slist = [3, 100, 23, 44]\n",
        "\n",
        "for i in  slist:\n",
        "  if i%3==0:\n",
        "    print(i)"
      ],
      "metadata": {
        "id": "WLQe83TpKE_1",
        "colab": {
          "base_uri": "https://localhost:8080/"
        },
        "outputId": "d0b8ccc6-ed87-4b00-db32-8760b03891be"
      },
      "execution_count": null,
      "outputs": [
        {
          "output_type": "stream",
          "name": "stdout",
          "text": [
            "3\n"
          ]
        }
      ]
    },
    {
      "cell_type": "markdown",
      "source": [],
      "metadata": {
        "id": "ReLTohLom__Q"
      }
    },
    {
      "cell_type": "markdown",
      "source": [
        "23\n",
        "\n",
        "리스트에서 20 보다 작은 3의 배수를 출력하라\n",
        "```\n",
        "리스트 = [13, 21, 12, 14, 30, 18]\n",
        "```\n",
        "```\n",
        "12\n",
        "18\n",
        "```"
      ],
      "metadata": {
        "id": "sUimQT4sKGpf"
      }
    },
    {
      "cell_type": "code",
      "source": [
        "slist = [13, 21, 12, 14, 30, 18]\n",
        "\n",
        "for i in  slist:\n",
        "  if i%3==0 and i<20:\n",
        "    print(i)"
      ],
      "metadata": {
        "id": "APlCYIu_KJN0",
        "colab": {
          "base_uri": "https://localhost:8080/"
        },
        "outputId": "97606493-a9be-4040-f113-9eba2b86d20d"
      },
      "execution_count": null,
      "outputs": [
        {
          "output_type": "stream",
          "name": "stdout",
          "text": [
            "12\n",
            "18\n"
          ]
        }
      ]
    },
    {
      "cell_type": "markdown",
      "source": [
        "24\n",
        "\n",
        "리스트에서 세 글자 이상의 문자를 화면에 출력하라\n",
        "\n",
        "```\n",
        "리스트 = [\"I\", \"study\", \"python\", \"language\", \"!\"]\n",
        "```\n",
        "```\n",
        "study\n",
        "python\n",
        "language\n",
        "```"
      ],
      "metadata": {
        "id": "4s0rksTRKKNS"
      }
    },
    {
      "cell_type": "code",
      "source": [
        "slist = [\"I\", \"study\", \"python\", \"language\", \"!\"]\n",
        "\n",
        "for i in  slist: #리스트의 데이터 갯수만큼 반복(5번)\n",
        "  if len(i) >= 3 : #리스트안에 데이터의 길이가 3보다 크거나 같을때\n",
        "    print(i)#출력"
      ],
      "metadata": {
        "id": "LtTfqvmcKMzU",
        "colab": {
          "base_uri": "https://localhost:8080/"
        },
        "outputId": "e20d4e89-484a-40b3-81ed-55e67a7533a4"
      },
      "execution_count": null,
      "outputs": [
        {
          "output_type": "stream",
          "name": "stdout",
          "text": [
            "study\n",
            "python\n",
            "language\n"
          ]
        }
      ]
    },
    {
      "cell_type": "markdown",
      "source": [
        "25\n",
        "\n",
        "리스트에서 대문자만 화면에 출력하라.\n",
        "\n",
        "```\n",
        "리스트 = [\"A\", \"b\", \"c\", \"D\"]\n",
        "```\n",
        "```\n",
        "A\n",
        "D\n",
        "```\n",
        "(참고) isupper() 메서드는 대문자 여부를 판별합니다.\n",
        "```\n",
        ">> 변수 = \"A\"\n",
        ">> 변수.isupper()\n",
        "True\n",
        ">> 변수 = \"a\"\n",
        ">> 변수.isupper()\n",
        "False\n",
        "```"
      ],
      "metadata": {
        "id": "c5I7ebg9KOuC"
      }
    },
    {
      "cell_type": "code",
      "source": [
        "slist = [\"A\", \"b\", \"c\", \"D\"]\n",
        "\n",
        "for i in  slist: #리스트의 데이터 갯수만큼 반복(4번)\n",
        "  if i.isupper() : #리스트안에 데이터를 하나씩 비교한 값이 대문자(True) 일때\n",
        "    print(i) #대문자만 출력"
      ],
      "metadata": {
        "id": "onxEPPu0KTIE",
        "colab": {
          "base_uri": "https://localhost:8080/"
        },
        "outputId": "05903df4-71e3-4dc7-e5df-eff64c0154bb"
      },
      "execution_count": null,
      "outputs": [
        {
          "output_type": "stream",
          "name": "stdout",
          "text": [
            "A\n",
            "D\n"
          ]
        }
      ]
    },
    {
      "cell_type": "markdown",
      "source": [
        "26\n",
        "\n",
        "리스트에서 소문자만 화면에 출력하라.\n",
        "\n",
        "```\n",
        "리스트 = [\"A\", \"b\", \"c\", \"D\"]\n",
        "```\n",
        "```\n",
        "b\n",
        "c\n",
        "```"
      ],
      "metadata": {
        "id": "pohlP-hLKWR4"
      }
    },
    {
      "cell_type": "code",
      "source": [
        "slist = [\"A\", \"b\", \"c\", \"D\"]\n",
        "\n",
        "for i in  slist:\n",
        "  if i.islower() :\n",
        "    print(i)"
      ],
      "metadata": {
        "id": "fAWX8SMkKZaz",
        "colab": {
          "base_uri": "https://localhost:8080/"
        },
        "outputId": "56a413f0-a64e-4b13-94b6-cfdfa31002df"
      },
      "execution_count": null,
      "outputs": [
        {
          "output_type": "stream",
          "name": "stdout",
          "text": [
            "b\n",
            "c\n"
          ]
        }
      ]
    },
    {
      "cell_type": "markdown",
      "source": [
        "27\n",
        "\n",
        "이름의 첫 글자를 대문자로 변경해서 출력하라.\n",
        "\n",
        "```\n",
        "리스트 = ['dog', 'cat', 'parrot']\n",
        "```\n",
        "```\n",
        "Dog\n",
        "Cat\n",
        "Parrot\n",
        "```\n",
        "(참고) upper() 메서드는 문자열을 대문자로 변경합니다.\n",
        "```\n",
        ">> 변수 = \"a\"\n",
        ">> a.upper()\n",
        "A\n",
        ">> 변수 = \"abc\"\n",
        ">> 변수.upper()\n",
        "ABC\n",
        "```"
      ],
      "metadata": {
        "id": "Ha1hzXzgKa4-"
      }
    },
    {
      "cell_type": "code",
      "source": [
        "slist = ['dog', 'cat', 'parrot']\n",
        "\n",
        "for i in slist: #리스트의 데이터 갯수만큼 반복(3번)\n",
        "  print(i[0].upper()+i[1::]) #리스트안에 데이터의 0번째 인덱스를 대문자로 바꾸고 1번째 인덱스부터 하나씩 출력 총 3번"
      ],
      "metadata": {
        "id": "QI-6JVfEKesL",
        "colab": {
          "base_uri": "https://localhost:8080/"
        },
        "outputId": "cd8f08c6-5001-4f5a-a173-621932c51e86"
      },
      "execution_count": null,
      "outputs": [
        {
          "output_type": "stream",
          "name": "stdout",
          "text": [
            "Dog\n",
            "Cat\n",
            "Parrot\n"
          ]
        }
      ]
    },
    {
      "cell_type": "markdown",
      "source": [
        "28\n",
        "\n",
        "파일 이름이 저장된 리스트에서 확장자를 제거하고 파일 이름만 화면에 출력하라. (힌트: split() 메서드)\n",
        "\n",
        "```\n",
        "리스트 = ['hello.py', 'ex01.py', 'intro.hwp']\n",
        "```\n",
        "```\n",
        "hello\n",
        "ex01\n",
        "intro\n",
        "```"
      ],
      "metadata": {
        "id": "K6BlXeW-KgkB"
      }
    },
    {
      "cell_type": "code",
      "source": [
        "slist = ['hello.py', 'ex01.py', 'intro.hwp']\n",
        "\n",
        "for i in  slist:\n",
        "  print(i.split('.')[0]) #스플릿된상태에서 인덱싱가능"
      ],
      "metadata": {
        "id": "6qUacxDKKku7",
        "colab": {
          "base_uri": "https://localhost:8080/"
        },
        "outputId": "77666275-1350-4535-d6cf-2dd3b2002d32"
      },
      "execution_count": null,
      "outputs": [
        {
          "output_type": "stream",
          "name": "stdout",
          "text": [
            "hello\n",
            "ex01\n",
            "intro\n"
          ]
        }
      ]
    },
    {
      "cell_type": "markdown",
      "source": [
        "29\n",
        "파일 이름이 저장된 리스트에서 확장자가 .h인 파일 이름을 출력하라.\n",
        "\n",
        "```\n",
        "리스트 = ['intra.h', 'intra.c', 'define.h', 'run.py']\n",
        "```\n",
        "```\n",
        "intra.h\n",
        "define.h\n",
        "```"
      ],
      "metadata": {
        "id": "W-AMGKPBKl-5"
      }
    },
    {
      "cell_type": "code",
      "source": [
        "리스트 = ['intra.h', 'intra.c', 'define.h', 'run.py']\n",
        "\n",
        "for i in 리스트:\n",
        "  split = i.split(\".\")\n",
        "  if split[1] == \"h\":\n",
        "    print(i)"
      ],
      "metadata": {
        "id": "RNTWAoItKoV7",
        "colab": {
          "base_uri": "https://localhost:8080/"
        },
        "outputId": "e35c8ed8-c9ce-4903-8f77-dbbf04fabc8d"
      },
      "execution_count": null,
      "outputs": [
        {
          "output_type": "stream",
          "name": "stdout",
          "text": [
            "intra.h\n",
            "define.h\n"
          ]
        }
      ]
    },
    {
      "cell_type": "markdown",
      "source": [
        "30\n",
        "파일 이름이 저장된 리스트에서 확장자가 .h나 .c인 파일을 화면에 출력하라.\n",
        "\n",
        "```\n",
        "리스트 = ['intra.h', 'intra.c', 'define.h', 'run.py']\n",
        "```\n",
        "```\n",
        "intra.h\n",
        "intra.c\n",
        "define.h\n",
        "```"
      ],
      "metadata": {
        "id": "GxnB0sOfKpZx"
      }
    },
    {
      "cell_type": "code",
      "source": [
        "slist = ['intra.h', 'intra.c', 'define.h', 'run.py']\n",
        "   \n",
        "for i in slist: #리스트의 데이터 갯수만큼 반복(4번)\n",
        "  split = i.split(\".\")\n",
        "  if (split[1] == \"h\") or (split[1] == \"c\"):\n",
        "    print(i)\n",
        "    "
      ],
      "metadata": {
        "id": "gw7SzLG3KuNa",
        "colab": {
          "base_uri": "https://localhost:8080/"
        },
        "outputId": "6f39bf5c-6fb9-414b-ae51-02c42a14a2b1"
      },
      "execution_count": null,
      "outputs": [
        {
          "output_type": "stream",
          "name": "stdout",
          "text": [
            "intra.h\n",
            "intra.c\n",
            "define.h\n"
          ]
        }
      ]
    },
    {
      "cell_type": "code",
      "source": [],
      "metadata": {
        "id": "OuP_t3Ko6f3I"
      },
      "execution_count": null,
      "outputs": []
    },
    {
      "cell_type": "markdown",
      "source": [
        "31\n",
        "\n",
        "for문과 range 구문을 사용해서 0~99까지 한 라인에 하나씩 순차적으로 출력하는 프로그램을 작성하라."
      ],
      "metadata": {
        "id": "N86eI1PPKyP-"
      }
    },
    {
      "cell_type": "code",
      "source": [
        "for i in list(range(100)) :\n",
        "  print(i)"
      ],
      "metadata": {
        "id": "5W6zECT9Kz-S",
        "colab": {
          "base_uri": "https://localhost:8080/"
        },
        "outputId": "b9b8f4d1-7245-4203-98e7-2434ef16cd87"
      },
      "execution_count": null,
      "outputs": [
        {
          "output_type": "stream",
          "name": "stdout",
          "text": [
            "0\n",
            "1\n",
            "2\n",
            "3\n",
            "4\n",
            "5\n",
            "6\n",
            "7\n",
            "8\n",
            "9\n",
            "10\n",
            "11\n",
            "12\n",
            "13\n",
            "14\n",
            "15\n",
            "16\n",
            "17\n",
            "18\n",
            "19\n",
            "20\n",
            "21\n",
            "22\n",
            "23\n",
            "24\n",
            "25\n",
            "26\n",
            "27\n",
            "28\n",
            "29\n",
            "30\n",
            "31\n",
            "32\n",
            "33\n",
            "34\n",
            "35\n",
            "36\n",
            "37\n",
            "38\n",
            "39\n",
            "40\n",
            "41\n",
            "42\n",
            "43\n",
            "44\n",
            "45\n",
            "46\n",
            "47\n",
            "48\n",
            "49\n",
            "50\n",
            "51\n",
            "52\n",
            "53\n",
            "54\n",
            "55\n",
            "56\n",
            "57\n",
            "58\n",
            "59\n",
            "60\n",
            "61\n",
            "62\n",
            "63\n",
            "64\n",
            "65\n",
            "66\n",
            "67\n",
            "68\n",
            "69\n",
            "70\n",
            "71\n",
            "72\n",
            "73\n",
            "74\n",
            "75\n",
            "76\n",
            "77\n",
            "78\n",
            "79\n",
            "80\n",
            "81\n",
            "82\n",
            "83\n",
            "84\n",
            "85\n",
            "86\n",
            "87\n",
            "88\n",
            "89\n",
            "90\n",
            "91\n",
            "92\n",
            "93\n",
            "94\n",
            "95\n",
            "96\n",
            "97\n",
            "98\n",
            "99\n"
          ]
        }
      ]
    },
    {
      "cell_type": "markdown",
      "source": [
        "32\n",
        "\n",
        "월드컵은 4년에 한 번 개최된다. range()를 사용하여 2002~2050년까지 중 월드컵이 개최되는 연도를 출력하라.\n",
        "\n",
        "```\n",
        "2002\n",
        "2006\n",
        "2010\n",
        "...\n",
        "2042\n",
        "2046\n",
        "2050\n",
        "```\n",
        "참고) range의 세번 째 파라미터는 증감폭을 결정합니다.\n",
        "```\n",
        ">> print(list(range(0, 10, 2)))\n",
        "[0, 2, 4, 6, 8]\n",
        "```"
      ],
      "metadata": {
        "id": "OLQV0U2tK0pv"
      }
    },
    {
      "cell_type": "code",
      "source": [
        "for i in list(range(2002,2051,4)) :\n",
        "  print(i)"
      ],
      "metadata": {
        "id": "xwcDf1hlK5Mq",
        "colab": {
          "base_uri": "https://localhost:8080/"
        },
        "outputId": "61a4afea-02d6-4b7e-bbb0-359e1ccd6b3f"
      },
      "execution_count": null,
      "outputs": [
        {
          "output_type": "stream",
          "name": "stdout",
          "text": [
            "2002\n",
            "2006\n",
            "2010\n",
            "2014\n",
            "2018\n",
            "2022\n",
            "2026\n",
            "2030\n",
            "2034\n",
            "2038\n",
            "2042\n",
            "2046\n",
            "2050\n"
          ]
        }
      ]
    },
    {
      "cell_type": "markdown",
      "source": [
        "33\n",
        "\n",
        "1부터 30까지의 숫자 중 3의 배수를 출력하라.\n",
        "\n",
        "```\n",
        "3 \n",
        "6 \n",
        "9 \n",
        "12 \n",
        "15 \n",
        "18 \n",
        "21 \n",
        "24 \n",
        "27 \n",
        "30\n",
        "```"
      ],
      "metadata": {
        "id": "cd3f89TZK65s"
      }
    },
    {
      "cell_type": "code",
      "source": [
        "for i in range(1,31) : #1~30까지 반복\n",
        "  if i%3 == 0: # 3의배수만\n",
        "    print(i)#출력"
      ],
      "metadata": {
        "id": "6e8A_2p-K-n6",
        "colab": {
          "base_uri": "https://localhost:8080/"
        },
        "outputId": "d1c88ff8-796a-4583-dcf6-7270b6640c85"
      },
      "execution_count": null,
      "outputs": [
        {
          "output_type": "stream",
          "name": "stdout",
          "text": [
            "3\n",
            "6\n",
            "9\n",
            "12\n",
            "15\n",
            "18\n",
            "21\n",
            "24\n",
            "27\n",
            "30\n"
          ]
        }
      ]
    },
    {
      "cell_type": "markdown",
      "source": [
        "34\n",
        "\n",
        "99부터 0까지 1씩 감소하는 숫자들을, 한 라인에 하나씩 출력하라."
      ],
      "metadata": {
        "id": "Nc5S2O9CLAGv"
      }
    },
    {
      "cell_type": "code",
      "source": [
        "for i in list(range(99,-1, -1)) :\n",
        "  print(i)"
      ],
      "metadata": {
        "id": "pZNdmathLBNy",
        "colab": {
          "base_uri": "https://localhost:8080/"
        },
        "outputId": "59516103-7ae2-4f1d-8e5a-0d34cfd3c5c7"
      },
      "execution_count": null,
      "outputs": [
        {
          "output_type": "stream",
          "name": "stdout",
          "text": [
            "99\n",
            "98\n",
            "97\n",
            "96\n",
            "95\n",
            "94\n",
            "93\n",
            "92\n",
            "91\n",
            "90\n",
            "89\n",
            "88\n",
            "87\n",
            "86\n",
            "85\n",
            "84\n",
            "83\n",
            "82\n",
            "81\n",
            "80\n",
            "79\n",
            "78\n",
            "77\n",
            "76\n",
            "75\n",
            "74\n",
            "73\n",
            "72\n",
            "71\n",
            "70\n",
            "69\n",
            "68\n",
            "67\n",
            "66\n",
            "65\n",
            "64\n",
            "63\n",
            "62\n",
            "61\n",
            "60\n",
            "59\n",
            "58\n",
            "57\n",
            "56\n",
            "55\n",
            "54\n",
            "53\n",
            "52\n",
            "51\n",
            "50\n",
            "49\n",
            "48\n",
            "47\n",
            "46\n",
            "45\n",
            "44\n",
            "43\n",
            "42\n",
            "41\n",
            "40\n",
            "39\n",
            "38\n",
            "37\n",
            "36\n",
            "35\n",
            "34\n",
            "33\n",
            "32\n",
            "31\n",
            "30\n",
            "29\n",
            "28\n",
            "27\n",
            "26\n",
            "25\n",
            "24\n",
            "23\n",
            "22\n",
            "21\n",
            "20\n",
            "19\n",
            "18\n",
            "17\n",
            "16\n",
            "15\n",
            "14\n",
            "13\n",
            "12\n",
            "11\n",
            "10\n",
            "9\n",
            "8\n",
            "7\n",
            "6\n",
            "5\n",
            "4\n",
            "3\n",
            "2\n",
            "1\n",
            "0\n"
          ]
        }
      ]
    },
    {
      "cell_type": "markdown",
      "source": [
        "35\n",
        "\n",
        "for문을 사용해서 아래와 같이 출력하라.\n",
        "\n",
        "```\n",
        "0.0\n",
        "0.1\n",
        "0.2\n",
        "0.3\n",
        "0.4\n",
        "0.5\n",
        "...\n",
        "0.9\n",
        "```"
      ],
      "metadata": {
        "id": "JgddzXfPLBk1"
      }
    },
    {
      "cell_type": "code",
      "source": [
        "for i in range(0, 10): #0~10 까지 반복\n",
        "  print(i/10) # 0~10 까지 반복한 숫자 / 10"
      ],
      "metadata": {
        "id": "i23O197gLHgS",
        "colab": {
          "base_uri": "https://localhost:8080/"
        },
        "outputId": "1ad9bde9-b818-4507-f0b6-bcd161ff95aa"
      },
      "execution_count": 2,
      "outputs": [
        {
          "output_type": "stream",
          "name": "stdout",
          "text": [
            "0.0\n",
            "0.1\n",
            "0.2\n",
            "0.3\n",
            "0.4\n",
            "0.5\n",
            "0.6\n",
            "0.7\n",
            "0.8\n",
            "0.9\n"
          ]
        }
      ]
    },
    {
      "cell_type": "markdown",
      "source": [
        "36\n",
        "\n",
        "구구단 3단을 출력하라.\n",
        "```\n",
        "3x1 = 3\n",
        "3x2 = 6\n",
        "3x3 = 9\n",
        "3x4 = 12\n",
        "3x5 = 15\n",
        "3x6 = 18\n",
        "3x7 = 21\n",
        "3x8 = 24\n",
        "3x9 = 27\n",
        "```"
      ],
      "metadata": {
        "id": "_06sP3QELH7V"
      }
    },
    {
      "cell_type": "code",
      "source": [
        "for i in range(1,10): #1~9까지 반복\n",
        " \n",
        "   print('3x'+str(i)+'=' + str(3*i))# 3*i(1~9) 반복해서 출력"
      ],
      "metadata": {
        "id": "mXlW43ScLLaa",
        "colab": {
          "base_uri": "https://localhost:8080/"
        },
        "outputId": "94a221fd-906f-4dfa-a35a-6675b807b0f7"
      },
      "execution_count": null,
      "outputs": [
        {
          "output_type": "stream",
          "name": "stdout",
          "text": [
            "3x1=3\n",
            "3x2=6\n",
            "3x3=9\n",
            "3x4=12\n",
            "3x5=15\n",
            "3x6=18\n",
            "3x7=21\n",
            "3x8=24\n",
            "3x9=27\n"
          ]
        }
      ]
    },
    {
      "cell_type": "markdown",
      "source": [
        "37\n",
        "\n",
        "구구단 3단을 출력하라. 단 홀수 번째만 출력한다.\n",
        "\n",
        "```\n",
        "3x1 = 3\n",
        "3x3 = 9\n",
        "3x5 = 15\n",
        "3x7 = 21\n",
        "3x9 = 27\n",
        "```"
      ],
      "metadata": {
        "id": "7pjK7TYCLMYs"
      }
    },
    {
      "cell_type": "code",
      "source": [
        "for i in range(9):\n",
        "  if i%2==1:\n",
        "   print('3x'+str(i),'=', str(i*3))"
      ],
      "metadata": {
        "id": "G4R92NLJLOUh",
        "colab": {
          "base_uri": "https://localhost:8080/"
        },
        "outputId": "e8d416cb-218e-462c-c9d8-a035255c2b1b"
      },
      "execution_count": null,
      "outputs": [
        {
          "output_type": "stream",
          "name": "stdout",
          "text": [
            "3x1 = 3\n",
            "3x3 = 9\n",
            "3x5 = 15\n",
            "3x7 = 21\n"
          ]
        }
      ]
    },
    {
      "cell_type": "markdown",
      "source": [
        "38\n",
        "\n",
        "1~10까지의 숫자에 대해 모두 더한 값을 출력하는 프로그램을 for 문을 사용하여 작성하라.\n",
        "\n",
        "```\n",
        "합 : 55\n",
        "```"
      ],
      "metadata": {
        "id": "psl-ozEHLPgf"
      }
    },
    {
      "cell_type": "code",
      "source": [
        "sum = 0\n",
        "\n",
        "for i in range(1, 11):\n",
        "  sum += i\n",
        "  print(sum)"
      ],
      "metadata": {
        "id": "7aH2pY9uLSFR",
        "colab": {
          "base_uri": "https://localhost:8080/"
        },
        "outputId": "6beb8e62-8c12-4f69-e52b-588ae467b1c4"
      },
      "execution_count": null,
      "outputs": [
        {
          "output_type": "stream",
          "name": "stdout",
          "text": [
            "1\n",
            "3\n",
            "6\n",
            "10\n",
            "15\n",
            "21\n",
            "28\n",
            "36\n",
            "45\n",
            "55\n"
          ]
        }
      ]
    },
    {
      "cell_type": "markdown",
      "source": [
        "39\n",
        "\n",
        "1~10까지의 숫자 중 모든 홀수의 합을 출력하는 프로그램을 for 문을 사용하여 작성하라.\n",
        "\n",
        "```\n",
        "합: 25\n",
        "```"
      ],
      "metadata": {
        "id": "JTW1VG-PLSij"
      }
    },
    {
      "cell_type": "code",
      "source": [
        "sum = 0\n",
        "\n",
        "for i in range(1, 11): #1~10까지 반복\n",
        "  if i%2 == 1: #i를 2로 나눴을때 나머지가 1이되는수(홀수)\n",
        "    sum += i #i가 증가할때마다 더해줌\n",
        "    print(sum) #출력"
      ],
      "metadata": {
        "id": "RG66BTsiLVfh",
        "colab": {
          "base_uri": "https://localhost:8080/"
        },
        "outputId": "1ae82632-1a6f-4aa4-8806-d5382c12279c"
      },
      "execution_count": null,
      "outputs": [
        {
          "output_type": "stream",
          "name": "stdout",
          "text": [
            "1\n",
            "4\n",
            "9\n",
            "16\n",
            "25\n"
          ]
        }
      ]
    },
    {
      "cell_type": "markdown",
      "source": [
        "40\n",
        "\n",
        "1~10까지의 숫자를 모두 곱한 값을 출력하는 프로그램을 for 문을 사용하여 작성하라."
      ],
      "metadata": {
        "id": "rU0Uwl-xLYFJ"
      }
    },
    {
      "cell_type": "code",
      "source": [
        "sum = 1\n",
        "\n",
        "for i in range(1, 11):\n",
        "    sum *= i\n",
        "    print(sum)"
      ],
      "metadata": {
        "id": "r5PwKZ_lLY8x",
        "colab": {
          "base_uri": "https://localhost:8080/"
        },
        "outputId": "3acd362d-cb20-43b8-edb1-9a7d815d6477"
      },
      "execution_count": null,
      "outputs": [
        {
          "output_type": "stream",
          "name": "stdout",
          "text": [
            "1\n",
            "2\n",
            "6\n",
            "24\n",
            "120\n",
            "720\n",
            "5040\n",
            "40320\n",
            "362880\n",
            "3628800\n"
          ]
        }
      ]
    },
    {
      "cell_type": "markdown",
      "source": [
        "41\n",
        "\n",
        "아래와 같이 리스트의 데이터를 출력하라. 단, for문과 range문을 사용하라.\n",
        "```\n",
        "price_list = [32100, 32150, 32000, 32500]\n",
        "32100\n",
        "32150\n",
        "32000\n",
        "32500\n",
        "```"
      ],
      "metadata": {
        "id": "zIpAlzdoLbTY"
      }
    },
    {
      "cell_type": "code",
      "source": [
        "price_list = [32100, 32150, 32000, 32500]\n",
        "\n",
        "for i in range(len(price_list)):\n",
        "    print(price_list[i])"
      ],
      "metadata": {
        "id": "w6QfFpJXLhct",
        "colab": {
          "base_uri": "https://localhost:8080/"
        },
        "outputId": "cbbc57b2-22d8-4242-e867-74607aac29c2"
      },
      "execution_count": null,
      "outputs": [
        {
          "output_type": "stream",
          "name": "stdout",
          "text": [
            "32100\n",
            "32150\n",
            "32000\n",
            "32500\n"
          ]
        }
      ]
    },
    {
      "cell_type": "markdown",
      "source": [
        "42\n",
        "\n",
        "아래와 같이 리스트의 데이터를 출력하라. 단, for문과 range문을 사용하라.\n",
        "\n",
        "```\n",
        "price_list = [32100, 32150, 32000, 32500]\n",
        "0 32100\n",
        "1 32150\n",
        "2 32000\n",
        "3 32500\n",
        "```"
      ],
      "metadata": {
        "id": "bsViAc6pLi2M"
      }
    },
    {
      "cell_type": "code",
      "source": [
        "price_list = [32100, 32150, 32000, 32500]\n",
        "\n",
        "for i in range(len(price_list)): #price_list 길이만큼 반복\n",
        "    print(i, price_list[i]) #i = 반복한 숫자의 인덱스, price_list의 인덱스가 하나씩 출력    "
      ],
      "metadata": {
        "id": "Eo19w7kzLjTY",
        "colab": {
          "base_uri": "https://localhost:8080/"
        },
        "outputId": "0d156655-73d4-4c11-838e-f61133debbf1"
      },
      "execution_count": 3,
      "outputs": [
        {
          "output_type": "stream",
          "name": "stdout",
          "text": [
            "0 32100\n",
            "1 32150\n",
            "2 32000\n",
            "3 32500\n"
          ]
        }
      ]
    },
    {
      "cell_type": "markdown",
      "source": [
        "43\n",
        "\n",
        "아래와 같이 리스트의 데이터를 출력하라. 단, for문과 range문을 사용하라.\n",
        "\n",
        "```\n",
        "price_list = [32100, 32150, 32000, 32500]\n",
        "3 32100\n",
        "2 32150\n",
        "1 32000\n",
        "0 32500\n",
        "```"
      ],
      "metadata": {
        "id": "PF7H_7H_LkOU"
      }
    },
    {
      "cell_type": "code",
      "source": [
        "price_list = [32100, 32150, 32000, 32500]\n",
        "\n",
        "for i in range(len(price_list)):\n",
        "    print(4-i-1, price_list[i])"
      ],
      "metadata": {
        "id": "ZA1kpp1nLnPB",
        "colab": {
          "base_uri": "https://localhost:8080/"
        },
        "outputId": "aaab56c2-3ba0-4e98-f9bb-462bdf3aac74"
      },
      "execution_count": null,
      "outputs": [
        {
          "output_type": "stream",
          "name": "stdout",
          "text": [
            "3 32100\n",
            "2 32150\n",
            "1 32000\n",
            "0 32500\n"
          ]
        }
      ]
    },
    {
      "cell_type": "markdown",
      "source": [
        "44\n",
        "\n",
        "아래와 같이 리스트의 데이터를 출력하라. 단, for문과 range문을 사용하라.\n",
        "\n",
        "```\n",
        "price_list = [32100, 32150, 32000, 32500]\n",
        "100 32150\n",
        "110 32000\n",
        "120 32500\n",
        "```"
      ],
      "metadata": {
        "id": "_L9G3mUkLpyx"
      }
    },
    {
      "cell_type": "code",
      "source": [
        "price_list = [32100, 32150, 32000, 32500]\n",
        "\n",
        "for i in range(len(price_list)-1):\n",
        "    print(i*10 + 100, price_list[i])"
      ],
      "metadata": {
        "id": "Gbci3jZRLsNw",
        "colab": {
          "base_uri": "https://localhost:8080/"
        },
        "outputId": "3d161a4e-8afc-4d37-8d78-e521a5d2b560"
      },
      "execution_count": null,
      "outputs": [
        {
          "output_type": "stream",
          "name": "stdout",
          "text": [
            "100 32100\n",
            "110 32150\n",
            "120 32000\n"
          ]
        }
      ]
    },
    {
      "cell_type": "markdown",
      "source": [
        "45\n",
        "\n",
        "my_list를 아래와 같이 출력하라.\n",
        "\n",
        "```\n",
        "my_list = [\"가\", \"나\", \"다\", \"라\"]\n",
        "가 나\n",
        "나 다\n",
        "다 라\n",
        "```"
      ],
      "metadata": {
        "id": "8n3XqlXsLtUT"
      }
    },
    {
      "cell_type": "code",
      "source": [
        "my_list = [\"가\", \"나\", \"다\", \"라\"]\n",
        "for i in range(len(my_list)-1):\n",
        "  print(my_list[i], my_list[i+1])"
      ],
      "metadata": {
        "id": "ev2lLcsrLvQx",
        "colab": {
          "base_uri": "https://localhost:8080/"
        },
        "outputId": "ebec62a1-4000-467e-903a-205b051ae70f"
      },
      "execution_count": null,
      "outputs": [
        {
          "output_type": "stream",
          "name": "stdout",
          "text": [
            "가 나\n",
            "나 다\n",
            "다 라\n"
          ]
        }
      ]
    },
    {
      "cell_type": "markdown",
      "source": [
        "46\n",
        "\n",
        "리스트를 아래와 같이 출력하라.\n",
        "\n",
        "```\n",
        "my_list = [\"가\", \"나\", \"다\", \"라\", \"마\"]\n",
        "가 나 다\n",
        "나 다 라\n",
        "다 라 마\n",
        "```"
      ],
      "metadata": {
        "id": "y3_FEeI1Lzba"
      }
    },
    {
      "cell_type": "code",
      "source": [
        "my_list = [\"가\", \"나\", \"다\", \"라\", \"마\"]\n",
        "\n",
        "for i in range(len(my_list)-2): #my_list의 길이-2 만큼 반복(3번)\n",
        "  print(my_list[i], my_list[i+1],  my_list[i+2]) #my_list의 인덱스에 해당하는 3개의 문자열이 순서대로 출력"
      ],
      "metadata": {
        "id": "QHwzTwexL1fY",
        "colab": {
          "base_uri": "https://localhost:8080/"
        },
        "outputId": "0205c59d-2ee4-4b5c-92e0-15c4f5799c07"
      },
      "execution_count": null,
      "outputs": [
        {
          "output_type": "stream",
          "name": "stdout",
          "text": [
            "가 나 다\n",
            "나 다 라\n",
            "다 라 마\n"
          ]
        }
      ]
    },
    {
      "cell_type": "markdown",
      "source": [
        "47\n",
        "\n",
        "반복문과 range 함수를 사용해서 my_list를 아래와 같이 출력하라.\n",
        "\n",
        "```\n",
        "my_list = [\"가\", \"나\", \"다\", \"라\"]\n",
        "라 다\n",
        "다 나\n",
        "나 가\n",
        "```"
      ],
      "metadata": {
        "id": "VLKZFDnKMBUL"
      }
    },
    {
      "cell_type": "code",
      "source": [
        "my_list = [\"가\", \"나\", \"다\", \"라\"]\n",
        "\n",
        "for i in range(len(my_list) -1, 0 -1):\n",
        "  print(my_list[i], my_list[i-1])"
      ],
      "metadata": {
        "id": "TUfd2eVoMDSY"
      },
      "execution_count": null,
      "outputs": []
    },
    {
      "cell_type": "markdown",
      "source": [
        "48\n",
        "\n",
        "리스트에는 네 개의 정수가 저장되어 있다. 각각의 데이터에 대해서 자신과 우측값과의 차분값을 화면에 출력하라.\n",
        "\n",
        "```\n",
        "my_list = [100, 200, 400, 800]\n",
        "```\n",
        "예를들어 100을 기준으로 우측에 위치한 200과의 차분 값를 화면에 출력하고, 200을 기준으로 우측에 위치한 400과의 차분값을 화면에 출력한다. 이어서 400을 기준으로 우측에 위치한 800과의 차분값을 화면에 출력한다.\n",
        "```\n",
        "100\n",
        "200\n",
        "400\n",
        "```"
      ],
      "metadata": {
        "id": "tIBwv82dMLMP"
      }
    },
    {
      "cell_type": "code",
      "source": [
        "my_list = [100, 200, 400, 800]\n",
        "\n",
        "for i in range(len(my_list)-1):\n",
        "  print(my_list[i])"
      ],
      "metadata": {
        "id": "qON0RdjOMPDX",
        "colab": {
          "base_uri": "https://localhost:8080/"
        },
        "outputId": "626a74cd-0eec-4a5b-bfc3-68d7e3433a26"
      },
      "execution_count": null,
      "outputs": [
        {
          "output_type": "stream",
          "name": "stdout",
          "text": [
            "100\n",
            "200\n",
            "400\n"
          ]
        }
      ]
    },
    {
      "cell_type": "markdown",
      "source": [
        "49\n",
        "\n",
        "리스트에는 6일 간의 종가 데이터가 저장되어 있다. 종가 데이터의 3일 이동 평균을 계산하고 이를 화면에 출력하라.\n",
        "\n",
        "```\n",
        "my_list = [100, 200, 400, 800, 1000, 1300]\n",
        "```\n",
        "첫 번째 줄에는 100, 200, 400의 평균값이 출력된다. 두 번째 줄에는 200, 400, 800의 평균값이 출력된다. 같은 방식으로 나머지 데이터의 평균을 출력한다.\n",
        "```\n",
        "233.33333333333334\n",
        "466.6666666666667\n",
        "733.3333333333334\n",
        "1033.3333333333333\n",
        "```"
      ],
      "metadata": {
        "id": "CMVVe4tBMQ3D"
      }
    },
    {
      "cell_type": "code",
      "source": [
        "my_list = [100, 200, 400, 800, 1000, 1300]\n",
        "\n",
        "for i in range(1, len(my_list) - 1): #my_list의 2번째 부터 마지막에서 두번째 까지의 길이만큼 반복\n",
        "  print(abs(my_list[i-1] + my_list[i] + my_list[i+1]) / 3) #my_list[i-1], my_list[i], \"my_list[i+1] 을 모두합하고 3으로 나누 었을때의 나오는 평균 값 출력"
      ],
      "metadata": {
        "id": "a1E-LSETMTxf",
        "colab": {
          "base_uri": "https://localhost:8080/"
        },
        "outputId": "0624903b-90ce-435b-ec10-e8a5f91d3380"
      },
      "execution_count": 4,
      "outputs": [
        {
          "output_type": "stream",
          "name": "stdout",
          "text": [
            "233.33333333333334\n",
            "466.6666666666667\n",
            "733.3333333333334\n",
            "1033.3333333333333\n"
          ]
        }
      ]
    },
    {
      "cell_type": "markdown",
      "source": [
        "50\n",
        "\n",
        "리스트에 5일간의 저가, 고가 정보가 저장돼 있다. 고가와 저가의 차를 변동폭이라고 정의할 때, low, high 두 개의 리스트를 사용해서 5일간의 변동폭을 volatility 리스트에 저장하라.\n",
        "\n",
        "```\n",
        "low_prices  = [100, 200, 400, 800, 1000]\n",
        "high_prices = [150, 300, 430, 880, 1000]\n",
        "```"
      ],
      "metadata": {
        "id": "XKsgaHAzMWGi"
      }
    },
    {
      "cell_type": "code",
      "source": [
        "low_prices  = [100, 200, 400, 800, 1000]\n",
        "high_prices = [150, 300, 430, 880, 1000]\n",
        "volatility = []\n",
        "for i in range(len(low_prices)):\n",
        "  volatility = high_prices[i] - low_prices[i]\n",
        "  print(volatility)"
      ],
      "metadata": {
        "colab": {
          "base_uri": "https://localhost:8080/"
        },
        "id": "VbqEz-g81my1",
        "outputId": "1a0d0085-d259-4603-b9b5-ac420a5f0dfd"
      },
      "execution_count": null,
      "outputs": [
        {
          "output_type": "stream",
          "name": "stdout",
          "text": [
            "50\n",
            "100\n",
            "30\n",
            "80\n",
            "0\n"
          ]
        }
      ]
    }
  ]
}