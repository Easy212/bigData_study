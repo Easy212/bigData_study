{
  "nbformat": 4,
  "nbformat_minor": 0,
  "metadata": {
    "colab": {
      "provenance": []
    },
    "kernelspec": {
      "name": "python3",
      "display_name": "Python 3"
    },
    "language_info": {
      "name": "python"
    }
  },
  "cells": [
    {
      "cell_type": "markdown",
      "source": [
        "01 \n",
        "\n",
        "\"뉴딜\" 문자열을 화면에 출력하는 print_new() 함수를 정의하라."
      ],
      "metadata": {
        "id": "bZKGkTFENJX2"
      }
    },
    {
      "cell_type": "code",
      "execution_count": null,
      "metadata": {
        "id": "AEBlty-UNImm"
      },
      "outputs": [],
      "source": [
        "def print_new() :\n",
        "      print('뉴딜')\n",
        "\n"
      ]
    },
    {
      "cell_type": "markdown",
      "source": [
        "02\n",
        "\n",
        "01번에서 정의한 함수를 호출하라."
      ],
      "metadata": {
        "id": "9Fno-FRnNQcX"
      }
    },
    {
      "cell_type": "code",
      "source": [
        "print_new()"
      ],
      "metadata": {
        "id": "ho11AW3cNTrD",
        "colab": {
          "base_uri": "https://localhost:8080/"
        },
        "outputId": "c2007fc0-2c4c-40da-857e-73e1d9a33b38"
      },
      "execution_count": null,
      "outputs": [
        {
          "output_type": "stream",
          "name": "stdout",
          "text": [
            "뉴딜\n"
          ]
        }
      ]
    },
    {
      "cell_type": "markdown",
      "source": [
        "03\n",
        "\n",
        "01번에서 정의한 print_new 함수를 100번호출하라."
      ],
      "metadata": {
        "id": "DmXnZifVNUdH"
      }
    },
    {
      "cell_type": "code",
      "source": [
        "def print_new() :\n",
        "      print('뉴딜')\n",
        "\n",
        "for i in range(100) :#100번 반복\n",
        "    print_new()# 뉴딜 출력"
      ],
      "metadata": {
        "id": "pFTuFNWYNdxZ",
        "colab": {
          "base_uri": "https://localhost:8080/"
        },
        "outputId": "b9aba902-6cab-4ba4-efec-ca1cf776cd06"
      },
      "execution_count": 2,
      "outputs": [
        {
          "output_type": "stream",
          "name": "stdout",
          "text": [
            "뉴딜\n",
            "뉴딜\n",
            "뉴딜\n",
            "뉴딜\n",
            "뉴딜\n",
            "뉴딜\n",
            "뉴딜\n",
            "뉴딜\n",
            "뉴딜\n",
            "뉴딜\n",
            "뉴딜\n",
            "뉴딜\n",
            "뉴딜\n",
            "뉴딜\n",
            "뉴딜\n",
            "뉴딜\n",
            "뉴딜\n",
            "뉴딜\n",
            "뉴딜\n",
            "뉴딜\n",
            "뉴딜\n",
            "뉴딜\n",
            "뉴딜\n",
            "뉴딜\n",
            "뉴딜\n",
            "뉴딜\n",
            "뉴딜\n",
            "뉴딜\n",
            "뉴딜\n",
            "뉴딜\n",
            "뉴딜\n",
            "뉴딜\n",
            "뉴딜\n",
            "뉴딜\n",
            "뉴딜\n",
            "뉴딜\n",
            "뉴딜\n",
            "뉴딜\n",
            "뉴딜\n",
            "뉴딜\n",
            "뉴딜\n",
            "뉴딜\n",
            "뉴딜\n",
            "뉴딜\n",
            "뉴딜\n",
            "뉴딜\n",
            "뉴딜\n",
            "뉴딜\n",
            "뉴딜\n",
            "뉴딜\n",
            "뉴딜\n",
            "뉴딜\n",
            "뉴딜\n",
            "뉴딜\n",
            "뉴딜\n",
            "뉴딜\n",
            "뉴딜\n",
            "뉴딜\n",
            "뉴딜\n",
            "뉴딜\n",
            "뉴딜\n",
            "뉴딜\n",
            "뉴딜\n",
            "뉴딜\n",
            "뉴딜\n",
            "뉴딜\n",
            "뉴딜\n",
            "뉴딜\n",
            "뉴딜\n",
            "뉴딜\n",
            "뉴딜\n",
            "뉴딜\n",
            "뉴딜\n",
            "뉴딜\n",
            "뉴딜\n",
            "뉴딜\n",
            "뉴딜\n",
            "뉴딜\n",
            "뉴딜\n",
            "뉴딜\n",
            "뉴딜\n",
            "뉴딜\n",
            "뉴딜\n",
            "뉴딜\n",
            "뉴딜\n",
            "뉴딜\n",
            "뉴딜\n",
            "뉴딜\n",
            "뉴딜\n",
            "뉴딜\n",
            "뉴딜\n",
            "뉴딜\n",
            "뉴딜\n",
            "뉴딜\n",
            "뉴딜\n",
            "뉴딜\n",
            "뉴딜\n",
            "뉴딜\n",
            "뉴딜\n",
            "뉴딜\n"
          ]
        }
      ]
    },
    {
      "cell_type": "markdown",
      "source": [
        "04\n",
        "\n",
        "\"뉴딜\" 문자열을 100번 화면에 출력하는 new_prints() 함수를 정의하라."
      ],
      "metadata": {
        "id": "pZ9O4RqqNd_h"
      }
    },
    {
      "cell_type": "code",
      "source": [
        "def new_prints(*args) :\n",
        "  for i in range(*args) :\n",
        "      print('뉴딜')\n"
      ],
      "metadata": {
        "id": "gsMsYYzGPBNG"
      },
      "execution_count": null,
      "outputs": []
    },
    {
      "cell_type": "markdown",
      "source": [
        "05\n",
        "\n",
        "아래의 에러가 발생하는 이유에 대해 설명하라.\n",
        "\n",
        "```\n",
        "hello()\n",
        "def hello():\n",
        "    print(\"Hi\")\n",
        "```\n",
        "\n",
        "실행 예\n",
        "```\n",
        "NameError: name 'hello' is not defined\n",
        "```\n"
      ],
      "metadata": {
        "id": "Rihgf7vdPOP9"
      }
    },
    {
      "cell_type": "code",
      "source": [
        "#hello()함수를 정의하기 전에 함수를 호출 했기때문"
      ],
      "metadata": {
        "id": "BCF_iIVwPWfp"
      },
      "execution_count": null,
      "outputs": []
    },
    {
      "cell_type": "markdown",
      "source": [
        "06\n",
        "\n",
        "아래 코드의 실행 결과를 예측하라.\n",
        "\n",
        "```\n",
        "def message() :\n",
        "    print(\"A\")\n",
        "    print(\"B\")\n",
        "\n",
        "message()\n",
        "print(\"C\")\n",
        "message()\n",
        "```"
      ],
      "metadata": {
        "id": "GuAAXOCAParp"
      }
    },
    {
      "cell_type": "code",
      "source": [
        "def message() :\n",
        "    print(\"A\")\n",
        "    print(\"B\")\n",
        "\n",
        "message() #A, B출력\n",
        "print(\"C\")#C 출력\n",
        "message() #A, B출력"
      ],
      "metadata": {
        "id": "FLsz-2t4PenB",
        "colab": {
          "base_uri": "https://localhost:8080/"
        },
        "outputId": "88edf48d-d30c-4000-f0cb-c3d4656b4846"
      },
      "execution_count": null,
      "outputs": [
        {
          "output_type": "stream",
          "name": "stdout",
          "text": [
            "A\n",
            "B\n",
            "C\n",
            "A\n",
            "B\n"
          ]
        }
      ]
    },
    {
      "cell_type": "markdown",
      "source": [
        "07\n",
        "\n",
        "아래 코드의 실행 결과를 예측하라. (읽기 어려운 코드의 예입니다.)\n",
        "\n",
        "```\n",
        "print(\"A\")\n",
        "\n",
        "def message() :\n",
        "    print(\"B\")\n",
        "\n",
        "print(\"C\")\n",
        "message()\n",
        "```"
      ],
      "metadata": {
        "id": "04sl6tQyPiaZ"
      }
    },
    {
      "cell_type": "code",
      "source": [
        "print(\"A\")\n",
        "\n",
        "def message() :\n",
        "    print(\"B\")\n",
        "\n",
        "print(\"C\")\n",
        "message()"
      ],
      "metadata": {
        "id": "JKVk2Aw2PmTw",
        "colab": {
          "base_uri": "https://localhost:8080/"
        },
        "outputId": "e0ea0d40-33c7-4dc8-e024-179d41433fc1"
      },
      "execution_count": null,
      "outputs": [
        {
          "output_type": "stream",
          "name": "stdout",
          "text": [
            "A\n",
            "C\n",
            "B\n"
          ]
        }
      ]
    },
    {
      "cell_type": "markdown",
      "source": [
        "08\n",
        "\n",
        "아래 코드의 실행 결과를 예측하라. (읽기 어려운 코드의 예입니다.)\n",
        "```\n",
        "print(\"A\")\n",
        "def message1() :\n",
        "    print(\"B\")\n",
        "print(\"C\")\n",
        "def message2() :\n",
        "    print(\"D\")\n",
        "message1()\n",
        "print(\"E\")\n",
        "message2()\n",
        "```"
      ],
      "metadata": {
        "id": "-0Urje6bPm9P"
      }
    },
    {
      "cell_type": "code",
      "source": [
        "print(\"A\")\n",
        "def message1() :\n",
        "    print(\"B\")\n",
        "print(\"C\")\n",
        "def message2() :\n",
        "    print(\"D\")\n",
        "    \n",
        "message1()\n",
        "print(\"E\")\n",
        "message2()"
      ],
      "metadata": {
        "id": "quw5X00dPq1Q",
        "colab": {
          "base_uri": "https://localhost:8080/"
        },
        "outputId": "99bbb881-5dd0-4c46-ffea-6666ebf4bd25"
      },
      "execution_count": null,
      "outputs": [
        {
          "output_type": "stream",
          "name": "stdout",
          "text": [
            "A\n",
            "C\n",
            "B\n",
            "E\n",
            "D\n"
          ]
        }
      ]
    },
    {
      "cell_type": "markdown",
      "source": [
        "09\n",
        "\n",
        "아래 코드의 실행 결과를 예측하라.\n",
        "\n",
        "```\n",
        "def message1():\n",
        "    print(\"A\")\n",
        "\n",
        "def message2():\n",
        "    print(\"B\")\n",
        "    message1()\n",
        "\n",
        "message2()\n",
        "```"
      ],
      "metadata": {
        "id": "pwMD3-S4PrTk"
      }
    },
    {
      "cell_type": "code",
      "source": [
        "def message1():\n",
        "    print(\"A\")\n",
        "\n",
        "def message2():\n",
        "    print(\"B\") #B출력후 \n",
        "    message1() # message1() 실행하므로 A출력\n",
        "\n",
        "message2()"
      ],
      "metadata": {
        "id": "De-PwqqwP0RQ"
      },
      "execution_count": null,
      "outputs": []
    },
    {
      "cell_type": "markdown",
      "source": [
        "10\n",
        "\n",
        "아래 코드의 실행 결과를 예측하라.\n",
        "\n",
        "```\n",
        "def message1():\n",
        "    print(\"A\")\n",
        "\n",
        "def message2():\n",
        "    print(\"B\")\n",
        "\n",
        "def message3():\n",
        "    for i in range (3) :\n",
        "        message2()\n",
        "        print(\"C\")\n",
        "    message1()\n",
        "\n",
        "message3()\n",
        "\n",
        "```"
      ],
      "metadata": {
        "id": "Uk2oLx17P2s7"
      }
    },
    {
      "cell_type": "code",
      "source": [
        "def message1():\n",
        "    print(\"A\")\n",
        "\n",
        "def message2():\n",
        "    print(\"B\")\n",
        "\n",
        "def message3():\n",
        "    for i in range (3) :\n",
        "        message2()\n",
        "        print(\"C\")\n",
        "    message1()\n",
        "\n",
        "message3()"
      ],
      "metadata": {
        "id": "OrspRUSxP6IY",
        "colab": {
          "base_uri": "https://localhost:8080/"
        },
        "outputId": "d41e0b84-f44f-44fe-9b02-cd04d0221fee"
      },
      "execution_count": null,
      "outputs": [
        {
          "output_type": "stream",
          "name": "stdout",
          "text": [
            "B\n",
            "C\n",
            "B\n",
            "C\n",
            "B\n",
            "C\n",
            "A\n"
          ]
        }
      ]
    },
    {
      "cell_type": "markdown",
      "source": [
        "11\n",
        "\n",
        "\n",
        "함수의 호출 결과를 예측하라.\n",
        "```\n",
        "def 함수(문자열) :\n",
        "    print(문자열)\n",
        "\n",
        "함수(\"안녕\")\n",
        "함수(\"Hi\")\n",
        "```"
      ],
      "metadata": {
        "id": "AvWbaDMAP6nI"
      }
    },
    {
      "cell_type": "code",
      "source": [
        "def 함수(문자열) :\n",
        "    print(문자열)\n",
        "\n",
        "함수(\"안녕\")\n",
        "함수(\"Hi\")"
      ],
      "metadata": {
        "id": "1Fse24b3P_uP",
        "colab": {
          "base_uri": "https://localhost:8080/"
        },
        "outputId": "8d149512-da7b-47e5-f398-f4d5224af296"
      },
      "execution_count": null,
      "outputs": [
        {
          "output_type": "stream",
          "name": "stdout",
          "text": [
            "안녕\n",
            "Hi\n"
          ]
        }
      ]
    },
    {
      "cell_type": "markdown",
      "source": [
        "12\n",
        "\n",
        "함수의 호출 결과를 예측하라.\n",
        "\n",
        "```\n",
        "def 함수(a, b) :\n",
        "    print(a + b)\n",
        "\n",
        "함수(3, 4)\n",
        "함수(7, 8)\n",
        "```"
      ],
      "metadata": {
        "id": "jyPw2HBcQAMi"
      }
    },
    {
      "cell_type": "code",
      "source": [
        "def 함수(a, b) :\n",
        "    print(a + b)\n",
        "\n",
        "함수(3, 4) # 3+4 =7\n",
        "함수(7, 8) # 7+8 =15"
      ],
      "metadata": {
        "id": "ZJLPbX_zQCaf",
        "colab": {
          "base_uri": "https://localhost:8080/"
        },
        "outputId": "d166d868-03cd-4ba7-95fa-7bb637a1408e"
      },
      "execution_count": null,
      "outputs": [
        {
          "output_type": "stream",
          "name": "stdout",
          "text": [
            "7\n",
            "15\n"
          ]
        }
      ]
    },
    {
      "cell_type": "markdown",
      "source": [
        "13\n",
        "\n",
        "아래와 같은 에러가 발생하는 원인을 설명하라.\n",
        "\n",
        "```\n",
        "def 함수(문자열) :\n",
        "    print(문자열)\n",
        "\n",
        "함수()\n",
        "```\n",
        "\n",
        "```\n",
        "TypeError: 함수() missing 1 required positional argument: '문자열'\n",
        "```"
      ],
      "metadata": {
        "id": "L2_nJyf6QEku"
      }
    },
    {
      "cell_type": "code",
      "source": [
        "#매개변수 값이 입력되지 않음"
      ],
      "metadata": {
        "id": "--nJXZkxQJ-n"
      },
      "execution_count": null,
      "outputs": []
    },
    {
      "cell_type": "markdown",
      "source": [
        "14\n",
        "\n",
        "아래와 같은 에러가 발생하는 원인을 설명하라.\n",
        "```\n",
        "def 함수(a, b) :\n",
        "    print(a + b)\n",
        "\n",
        "함수(\"안녕\", 3)\n",
        "```"
      ],
      "metadata": {
        "id": "KOnAR360QQmx"
      }
    },
    {
      "cell_type": "code",
      "source": [
        "#a+b연산에 문자와 숫자이기 때문에 함수실행불가"
      ],
      "metadata": {
        "id": "VLwkbpheQT0e",
        "colab": {
          "base_uri": "https://localhost:8080/",
          "height": 319
        },
        "outputId": "6501c9e3-16ba-40b3-f091-813b2268bc4c"
      },
      "execution_count": null,
      "outputs": [
        {
          "output_type": "error",
          "ename": "TypeError",
          "evalue": "ignored",
          "traceback": [
            "\u001b[0;31m---------------------------------------------------------------------------\u001b[0m",
            "\u001b[0;31mTypeError\u001b[0m                                 Traceback (most recent call last)",
            "\u001b[0;32m<ipython-input-27-fc1d6d40d8f3>\u001b[0m in \u001b[0;36m<cell line: 4>\u001b[0;34m()\u001b[0m\n\u001b[1;32m      2\u001b[0m     \u001b[0mprint\u001b[0m\u001b[0;34m(\u001b[0m\u001b[0ma\u001b[0m \u001b[0;34m+\u001b[0m \u001b[0mb\u001b[0m\u001b[0;34m)\u001b[0m\u001b[0;34m\u001b[0m\u001b[0;34m\u001b[0m\u001b[0m\n\u001b[1;32m      3\u001b[0m \u001b[0;34m\u001b[0m\u001b[0m\n\u001b[0;32m----> 4\u001b[0;31m \u001b[0m함수\u001b[0m\u001b[0;34m(\u001b[0m\u001b[0;34m\"안녕\"\u001b[0m\u001b[0;34m,\u001b[0m \u001b[0;36m3\u001b[0m\u001b[0;34m)\u001b[0m\u001b[0;34m\u001b[0m\u001b[0;34m\u001b[0m\u001b[0m\n\u001b[0m",
            "\u001b[0;32m<ipython-input-27-fc1d6d40d8f3>\u001b[0m in \u001b[0;36m함수\u001b[0;34m(a, b)\u001b[0m\n\u001b[1;32m      1\u001b[0m \u001b[0;32mdef\u001b[0m \u001b[0m함수\u001b[0m\u001b[0;34m(\u001b[0m\u001b[0ma\u001b[0m\u001b[0;34m,\u001b[0m \u001b[0mb\u001b[0m\u001b[0;34m)\u001b[0m \u001b[0;34m:\u001b[0m\u001b[0;34m\u001b[0m\u001b[0;34m\u001b[0m\u001b[0m\n\u001b[0;32m----> 2\u001b[0;31m     \u001b[0mprint\u001b[0m\u001b[0;34m(\u001b[0m\u001b[0ma\u001b[0m \u001b[0;34m+\u001b[0m \u001b[0mb\u001b[0m\u001b[0;34m)\u001b[0m\u001b[0;34m\u001b[0m\u001b[0;34m\u001b[0m\u001b[0m\n\u001b[0m\u001b[1;32m      3\u001b[0m \u001b[0;34m\u001b[0m\u001b[0m\n\u001b[1;32m      4\u001b[0m \u001b[0m함수\u001b[0m\u001b[0;34m(\u001b[0m\u001b[0;34m\"안녕\"\u001b[0m\u001b[0;34m,\u001b[0m \u001b[0;36m3\u001b[0m\u001b[0;34m)\u001b[0m\u001b[0;34m\u001b[0m\u001b[0;34m\u001b[0m\u001b[0m\n",
            "\u001b[0;31mTypeError\u001b[0m: can only concatenate str (not \"int\") to str"
          ]
        }
      ]
    },
    {
      "cell_type": "markdown",
      "source": [
        "15\n",
        "\n",
        "하나의 문자를 입력받아 문자열 끝에 \":D\" 스마일 문자열을 이어 붙여 출력하는 print_with_smile 함수를 정의하라."
      ],
      "metadata": {
        "id": "HpDVku90QUr3"
      }
    },
    {
      "cell_type": "code",
      "source": [
        "def print_with_smile(a):\n",
        "  print(a+\":D\") #매개변수 a를 입력받아 그 a와 함께 \":D\" 문자 출력"
      ],
      "metadata": {
        "id": "JWZ1Ar4KQW3O"
      },
      "execution_count": null,
      "outputs": []
    },
    {
      "cell_type": "markdown",
      "source": [
        "16\n",
        "\n",
        "15에서 정의한 함수를 호출하라. 파라미터는 \"안녕하세요\"로 입력하라.\n",
        "\n"
      ],
      "metadata": {
        "id": "9hm2K6BaQZ-v"
      }
    },
    {
      "cell_type": "code",
      "source": [
        "print_with_smile('안녕하세요')"
      ],
      "metadata": {
        "id": "XufEKUK2QdgW",
        "colab": {
          "base_uri": "https://localhost:8080/"
        },
        "outputId": "3327faf5-6c1a-4151-f16b-9ea4d3f1061e"
      },
      "execution_count": null,
      "outputs": [
        {
          "output_type": "stream",
          "name": "stdout",
          "text": [
            "안녕하세요:D\n"
          ]
        }
      ]
    },
    {
      "cell_type": "markdown",
      "source": [
        "17\n",
        "\n",
        "현재 가격을 입력 받아 상한가 (30%)를 출력하는 print_upper_price 함수를 정의하라."
      ],
      "metadata": {
        "id": "3lUj5hXRQfI-"
      }
    },
    {
      "cell_type": "code",
      "source": [
        "def print_upper_price(price):\n",
        "  print(price*0.3+price)\n",
        "\n",
        "print_upper_price(1000)"
      ],
      "metadata": {
        "id": "NG28myQ9QhI-",
        "colab": {
          "base_uri": "https://localhost:8080/"
        },
        "outputId": "e6fbdb21-3382-4cbd-c615-89da7a164ac0"
      },
      "execution_count": null,
      "outputs": [
        {
          "output_type": "stream",
          "name": "stdout",
          "text": [
            "1300.0\n"
          ]
        }
      ]
    },
    {
      "cell_type": "markdown",
      "source": [
        "18\n",
        "\n",
        "두 개의 숫자를 입력받아 두 수의 합을 출력하는 print_sum 함수를 정의하라."
      ],
      "metadata": {
        "id": "jRC8OmBEQhhH"
      }
    },
    {
      "cell_type": "code",
      "source": [
        "def print_sum (a,b) : #두개 숫자 입력받기\n",
        "  print(a+b) #입력받은 두개의 숫자 더하기\n",
        "\n",
        "print_sum (1,2)"
      ],
      "metadata": {
        "id": "wzPmXmzwQi_F",
        "colab": {
          "base_uri": "https://localhost:8080/"
        },
        "outputId": "54b52616-dc7a-4a73-c6b0-b306a5e455bf"
      },
      "execution_count": null,
      "outputs": [
        {
          "output_type": "stream",
          "name": "stdout",
          "text": [
            "3\n"
          ]
        }
      ]
    },
    {
      "cell_type": "markdown",
      "source": [
        "19\n",
        "\n",
        "두 개의 숫자를 입력받아 합/차/곱/나눗셈을 출력하는 print_arithmetic_operation 함수를 작성하라."
      ],
      "metadata": {
        "id": "K117rkfdQkUY"
      }
    },
    {
      "cell_type": "code",
      "source": [
        "def print_arithmetic_operation(a,b) :\n",
        "  print(a+b)\n",
        "  print(a-b)\n",
        "  print(a*b)\n",
        "  print(a/b)\n",
        "\n",
        "print_arithmetic_operation(1,1)"
      ],
      "metadata": {
        "id": "I3vzkMYhQkhu",
        "colab": {
          "base_uri": "https://localhost:8080/"
        },
        "outputId": "a32d1fd1-e6b1-4f94-9cd2-c4a43cc17e7e"
      },
      "execution_count": null,
      "outputs": [
        {
          "output_type": "stream",
          "name": "stdout",
          "text": [
            "2\n",
            "0\n",
            "1\n",
            "1.0\n"
          ]
        }
      ]
    },
    {
      "cell_type": "markdown",
      "source": [
        "20\n",
        "\n",
        "세 개의 숫자를 입력받아 가장 큰수를 출력하는 print_max 함수를 정의하라. 단 if 문을 사용해서 수를 비교하라."
      ],
      "metadata": {
        "id": "yjKnZeeXQmxz"
      }
    },
    {
      "cell_type": "code",
      "source": [
        "def print_max(a,b,c) :\n",
        "  if a > b :\n",
        "    return a\n",
        "  elif b > c :\n",
        "    return b\n",
        "  else : \n",
        "    return c\n",
        "\n",
        "print_max(10,20,50)"
      ],
      "metadata": {
        "id": "pghd6Rs1QnWN",
        "colab": {
          "base_uri": "https://localhost:8080/"
        },
        "outputId": "d3609b40-1612-4788-df9c-bd370f0a770e"
      },
      "execution_count": null,
      "outputs": [
        {
          "output_type": "execute_result",
          "data": {
            "text/plain": [
              "50"
            ]
          },
          "metadata": {},
          "execution_count": 46
        }
      ]
    },
    {
      "cell_type": "markdown",
      "source": [
        "21\n",
        "\n",
        "입력된 문자열을 역순으로 출력하는 print_reverse 함수를 정의하라.\n",
        "\n",
        "```\n",
        "print_reverse(\"python\")\n",
        "```\n",
        "\n",
        "```\n",
        "nohtyp\n",
        "```"
      ],
      "metadata": {
        "id": "2069nKrUQooZ"
      }
    },
    {
      "cell_type": "code",
      "source": [
        "def print_reverse(a):\n",
        "  print(a[::-1]) #받은 문자열을 거꾸로 출력\n",
        "\n",
        "print_reverse(\"python\")"
      ],
      "metadata": {
        "id": "F6KF7nKUQuVt",
        "colab": {
          "base_uri": "https://localhost:8080/"
        },
        "outputId": "16fffb02-4a77-47c2-a287-13e62f7d3456"
      },
      "execution_count": null,
      "outputs": [
        {
          "output_type": "stream",
          "name": "stdout",
          "text": [
            "nohtyp\n"
          ]
        }
      ]
    },
    {
      "cell_type": "markdown",
      "source": [
        "22\n",
        "\n",
        "성적 리스트를 입력 받아 평균을 출력하는 print_score 함수를 정의하라.\n",
        "```\n",
        "print_score ([1, 2, 3])\n",
        "```\n",
        "```\n",
        "2.0\n",
        "```"
      ],
      "metadata": {
        "id": "I4q8JlvPQvAR"
      }
    },
    {
      "cell_type": "code",
      "source": [
        "def print_score(slist):\n",
        "    sum =0 #초기값 0\n",
        "    for i in slist : #받은 리스트를 반복\n",
        "      sum += i #반복할때마다 sum값은 입력받은 숫자씩증가\n",
        "    print(sum/len(slist)) #총더한 값에 리스트의 길이만큼 나눠 평균값산출\n",
        "#print(sum(slist)/len(slist))\n",
        "print_score ([3, 1, 1,])"
      ],
      "metadata": {
        "id": "tL3eR4VCQwdk",
        "colab": {
          "base_uri": "https://localhost:8080/"
        },
        "outputId": "c74b21ae-6acc-42c3-d117-227167fbbe04"
      },
      "execution_count": null,
      "outputs": [
        {
          "output_type": "stream",
          "name": "stdout",
          "text": [
            "1.6666666666666667\n"
          ]
        }
      ]
    },
    {
      "cell_type": "markdown",
      "source": [
        "23\n",
        "\n",
        "하나의 리스트를 입력받아 짝수만 화면에 출력하는 print_even 함수를 정의하라.\n",
        "```\n",
        "print_even ([1, 3, 2, 10, 12, 11, 15])\n",
        "```\n",
        "```\n",
        "2\n",
        "10\n",
        "12\n",
        "```"
      ],
      "metadata": {
        "id": "-yvuLNj7Q8Io"
      }
    },
    {
      "cell_type": "code",
      "source": [
        "def print_even(slist) :\n",
        "\n",
        "    for i in slist :\n",
        "        if i%2 == 0 :\n",
        "           print(i)\n",
        "\n",
        "print_even ([1, 3, 2, 10, 12, 11, 15])\n"
      ],
      "metadata": {
        "id": "bHSSU059Q8vs",
        "colab": {
          "base_uri": "https://localhost:8080/"
        },
        "outputId": "25f74b93-0ee1-4b26-cd17-bc7c9c803986"
      },
      "execution_count": null,
      "outputs": [
        {
          "output_type": "stream",
          "name": "stdout",
          "text": [
            "2\n",
            "10\n",
            "12\n"
          ]
        }
      ]
    },
    {
      "cell_type": "markdown",
      "source": [
        "24\n",
        "\n",
        "하나의 딕셔너리를 입력받아 딕셔너리의 key 값을 화면에 출력하는 print_keys 함수를 정의하라.\n",
        "\n",
        "```\n",
        "print_keys ({\"이름\":\"김말똥\", \"나이\":30, \"성별\":0})\n",
        "```\n",
        "\n",
        "```\n",
        "이름\n",
        "나이\n",
        "성별\n",
        "```\n"
      ],
      "metadata": {
        "id": "P1XGIn-fRBHI"
      }
    },
    {
      "cell_type": "code",
      "source": [
        "def print_keys (d):\n",
        "  for i in d.keys() : #입력받은 딕셔너리타입의 key값 만큼 반복\n",
        "    print(i) #딕셔너리 타입 출력\n",
        "\n",
        "print_keys ({\"이름\":\"김말똥\", \"나이\":30, \"성별\":0})"
      ],
      "metadata": {
        "id": "OxkvLkn9RG1U",
        "colab": {
          "base_uri": "https://localhost:8080/"
        },
        "outputId": "d14c78e8-e564-4a81-b41a-588314bc2465"
      },
      "execution_count": null,
      "outputs": [
        {
          "output_type": "stream",
          "name": "stdout",
          "text": [
            "이름\n",
            "나이\n",
            "성별\n"
          ]
        }
      ]
    },
    {
      "cell_type": "markdown",
      "source": [
        "25\n",
        "\n",
        "입력 문자열을 한 줄에 다섯글자씩 출력하는 print_5xn(string) 함수를 작성하라.\n",
        "\n",
        "```\n",
        "print_5xn(\"아이엠어보이유알어걸\")\n",
        "```\n",
        "```\n",
        "아이엠어보\n",
        "이유알어걸\n",
        "```"
      ],
      "metadata": {
        "id": "Ql6MrGVVRNYg"
      }
    },
    {
      "cell_type": "code",
      "source": [
        "def print_5xn(a):\n",
        "    count = int(len(a) / 5)\n",
        "    for i in range(count + 1) :\n",
        "        print(a[i * 5: i * 5 + 5])\n",
        "\n",
        "print_5xn(\"아이엠어보이유알어걸\")"
      ],
      "metadata": {
        "id": "GmJ6eeduRQMs",
        "colab": {
          "base_uri": "https://localhost:8080/"
        },
        "outputId": "9798055d-f8db-4b27-82ca-c82e062774d0"
      },
      "execution_count": null,
      "outputs": [
        {
          "output_type": "stream",
          "name": "stdout",
          "text": [
            "아이엠어보\n",
            "이유알어걸\n",
            "\n"
          ]
        }
      ]
    },
    {
      "cell_type": "markdown",
      "source": [
        "26\n",
        "\n",
        "문자열과 한줄에 출력될 글자 수를 입력을 받아 한 줄에 입력된 글자 수만큼 출력하는 print_mxn(string) 함수를 작성하라.\n",
        "\n",
        "```\n",
        "printmxn(\"아이엠어보이유알어걸\", 3)\n",
        "```\n",
        "```\n",
        "아이엠\n",
        "어보이\n",
        "유알어\n",
        "걸\n",
        "```"
      ],
      "metadata": {
        "id": "Kpk_NVYQRS5f"
      }
    },
    {
      "cell_type": "code",
      "source": [
        "def printmxn(a, num):\n",
        "    count = int(len(a) / num)\n",
        "    for i in range(count + 1) :\n",
        "        print(a[i * num: i * num + num])\n",
        "\n",
        "printmxn(\"아이엠어보이유알어걸\", 3)"
      ],
      "metadata": {
        "id": "1-qzLC7sRVhc",
        "colab": {
          "base_uri": "https://localhost:8080/"
        },
        "outputId": "59888f1d-7a61-4ab6-86de-8cdd91f273a2"
      },
      "execution_count": null,
      "outputs": [
        {
          "output_type": "stream",
          "name": "stdout",
          "text": [
            "아이엠\n",
            "어보이\n",
            "유알어\n",
            "걸\n",
            "아이엠\n",
            "어보이\n",
            "유알어\n",
            "걸\n"
          ]
        }
      ]
    },
    {
      "cell_type": "markdown",
      "source": [
        "27\n",
        "\n",
        "연봉을 입력받아 월급을 계산하는 calc_monthly_salary(annual_salary) 함수를 정의하라. 회사는 연봉을 12개월로 나누어 분할 지급하며, \n",
        "\n",
        "이 때 1원 미만은 버림한다.\n",
        "\n",
        "```\n",
        "calc_monthly_salary(12000000)\n",
        "```\n",
        "```\n",
        "1000000\n",
        "```"
      ],
      "metadata": {
        "id": "OBbbhmTuSPZU"
      }
    },
    {
      "cell_type": "code",
      "source": [
        "def calc_monthly_salary(annual_salary) :\n",
        "  print(int(annual_salary/12)) # 입력받은 월급을 12로 나누고 int(정수)로 형변환하여 소수점이하 숫자 제거\n",
        "\n",
        "calc_monthly_salary(120000)"
      ],
      "metadata": {
        "id": "fEwqkUWdSP_5",
        "colab": {
          "base_uri": "https://localhost:8080/"
        },
        "outputId": "9811da49-57ed-483b-8bc6-b05ebec8c54d"
      },
      "execution_count": null,
      "outputs": [
        {
          "output_type": "stream",
          "name": "stdout",
          "text": [
            "10000\n"
          ]
        }
      ]
    },
    {
      "cell_type": "markdown",
      "source": [
        "28\n",
        "\n",
        "아래 코드의 실행 결과를 예측하라.\n",
        "\n",
        "```\n",
        "def my_print (a, b) :\n",
        "    print(\"왼쪽:\", a)\n",
        "    print(\"오른쪽:\", b)\n",
        "\n",
        "```\n",
        "my_print(a=100, b=200)"
      ],
      "metadata": {
        "id": "s1BANAOvSXOZ"
      }
    },
    {
      "cell_type": "code",
      "source": [
        "def my_print (a, b) :\n",
        "    print(\"왼쪽:\", a)\n",
        "    print(\"오른쪽:\", b)\n",
        "my_print(a=100, b=200)"
      ],
      "metadata": {
        "id": "ugMfvXvtSad5",
        "colab": {
          "base_uri": "https://localhost:8080/"
        },
        "outputId": "2095a28c-4248-4c32-c13a-9422fa1e7909"
      },
      "execution_count": null,
      "outputs": [
        {
          "output_type": "stream",
          "name": "stdout",
          "text": [
            "왼쪽: 100\n",
            "오른쪽: 200\n"
          ]
        }
      ]
    },
    {
      "cell_type": "markdown",
      "source": [
        "29\n",
        "\n",
        "아래 코드의 실행 결과를 예측하라.\n",
        "\n",
        "```\n",
        "def my_print (a, b) :\n",
        "    print(\"왼쪽:\", a)\n",
        "    print(\"오른쪽:\", b)\n",
        "```\n",
        "```\n",
        "my_print(b=100, a=200)\n",
        "```"
      ],
      "metadata": {
        "id": "uIFN2HqSScKs"
      }
    },
    {
      "cell_type": "code",
      "source": [
        "def my_print (a, b) :\n",
        "    print(\"왼쪽:\", a)\n",
        "    print(\"오른쪽:\", b)\n",
        "my_print(b=100, a=200)"
      ],
      "metadata": {
        "id": "PcCCrEsOSvwg",
        "colab": {
          "base_uri": "https://localhost:8080/"
        },
        "outputId": "b0a744c8-00da-4e95-d672-8c11a63cbf97"
      },
      "execution_count": null,
      "outputs": [
        {
          "output_type": "stream",
          "name": "stdout",
          "text": [
            "왼쪽: 200\n",
            "오른쪽: 100\n"
          ]
        }
      ]
    },
    {
      "cell_type": "markdown",
      "source": [
        "30\n",
        "\n",
        "아래 코드를 실행한 결과를 예상하라.\n",
        "\n",
        "```\n",
        "def n_plus_1 (n) :\n",
        "    result = n + 1\n",
        "```\n",
        "```\n",
        "n_plus_1(3)\n",
        "print (result)\n",
        "```"
      ],
      "metadata": {
        "id": "6aI2IJs1Sy4m"
      }
    },
    {
      "cell_type": "code",
      "source": [
        "def n_plus_1 (n) :\n",
        "    result = n + 1\n",
        "\n",
        "n_plus_1(3)\n",
        "print (result)\n",
        "#result 지역변수가 외부에서 선언 되어있기 때문에 오류"
      ],
      "metadata": {
        "id": "ZkK5seQDS6oH",
        "colab": {
          "base_uri": "https://localhost:8080/",
          "height": 210
        },
        "outputId": "179f4567-9a55-4295-a1b0-4ce4668d3451"
      },
      "execution_count": null,
      "outputs": [
        {
          "output_type": "error",
          "ename": "NameError",
          "evalue": "ignored",
          "traceback": [
            "\u001b[0;31m---------------------------------------------------------------------------\u001b[0m",
            "\u001b[0;31mNameError\u001b[0m                                 Traceback (most recent call last)",
            "\u001b[0;32m<ipython-input-93-c23e796415bb>\u001b[0m in \u001b[0;36m<cell line: 5>\u001b[0;34m()\u001b[0m\n\u001b[1;32m      3\u001b[0m \u001b[0;34m\u001b[0m\u001b[0m\n\u001b[1;32m      4\u001b[0m \u001b[0mn_plus_1\u001b[0m\u001b[0;34m(\u001b[0m\u001b[0;36m3\u001b[0m\u001b[0;34m)\u001b[0m\u001b[0;34m\u001b[0m\u001b[0;34m\u001b[0m\u001b[0m\n\u001b[0;32m----> 5\u001b[0;31m \u001b[0mprint\u001b[0m \u001b[0;34m(\u001b[0m\u001b[0mresult\u001b[0m\u001b[0;34m)\u001b[0m\u001b[0;34m\u001b[0m\u001b[0;34m\u001b[0m\u001b[0m\n\u001b[0m",
            "\u001b[0;31mNameError\u001b[0m: name 'result' is not defined"
          ]
        }
      ]
    },
    {
      "cell_type": "markdown",
      "source": [
        "31\n",
        "\n",
        "문자열 하나를 입력받아 인터넷 주소를 반환하는 make_url 함수를 정의하라.\n",
        "```\n",
        "make_url(\"naver\")\n",
        "```\n",
        "```\n",
        "www.naver.com\n",
        "```"
      ],
      "metadata": {
        "id": "YnxwO2HgS-6K"
      }
    },
    {
      "cell_type": "code",
      "source": [
        "def make_url(a) :\n",
        "  print(\"www.\"+str(a)+\".com\")\n",
        "\n",
        "make_url('naver')"
      ],
      "metadata": {
        "id": "V9zsfPGkS_c_",
        "colab": {
          "base_uri": "https://localhost:8080/"
        },
        "outputId": "ce7a8a55-e9e8-4691-beab-a5102c4fb509"
      },
      "execution_count": null,
      "outputs": [
        {
          "output_type": "stream",
          "name": "stdout",
          "text": [
            "www.naver.com\n"
          ]
        }
      ]
    },
    {
      "cell_type": "markdown",
      "source": [
        "32\n",
        "\n",
        "문자열을 입력받아 각 문자들로 구성된 리스트로 반환하는 make_list 함수를 정의하라.\n",
        "\n",
        "```\n",
        "make_list(\"abcd\")\n",
        "```\n",
        "```\n",
        "['a', 'b', 'c', 'd']\n",
        "```"
      ],
      "metadata": {
        "id": "ctVz3FNqTDaM"
      }
    },
    {
      "cell_type": "code",
      "source": [
        "def make_list(a):\n",
        "  print(list(a))\n",
        "  \n",
        "make_list(\"abcd\")"
      ],
      "metadata": {
        "id": "LlPbEv06TIJW",
        "colab": {
          "base_uri": "https://localhost:8080/"
        },
        "outputId": "178aa3e6-4e08-42b6-fae0-3e9d83a4ce9f"
      },
      "execution_count": null,
      "outputs": [
        {
          "output_type": "stream",
          "name": "stdout",
          "text": [
            "['a', 'b', 'c', 'd']\n"
          ]
        }
      ]
    },
    {
      "cell_type": "markdown",
      "source": [
        "33\n",
        "\n",
        "숫자로 구성된 하나의 리스트를 입력받아, 짝수들을 추출하여 리스트로 반환하는 pickup_even 함수를 구현하라.\n",
        "\n",
        "```\n",
        "pickup_even([3, 4, 5, 6, 7, 8])\n",
        "```\n",
        "```\n",
        "[4, 6, 8]\n",
        "```"
      ],
      "metadata": {
        "id": "MvWSnSS2TIsY"
      }
    },
    {
      "cell_type": "code",
      "source": [
        "def pickup_even(a):\n",
        "  result=[]\n",
        "  for i in a : #입력받은 리스트 개수만큼 반복\n",
        "    if i%2 == 0 : # 리스트의 값이 2의배수(짝수)일때 \n",
        "      result.append(i) #result에 값추가\n",
        "  return result #result값 반환\n",
        "\n",
        "pickup_even([3, 4, 5, 6, 7, 8])"
      ],
      "metadata": {
        "id": "WvRTasfbTMhe",
        "colab": {
          "base_uri": "https://localhost:8080/"
        },
        "outputId": "07cf91a9-8da8-4417-ff3c-2d08cc61084a"
      },
      "execution_count": null,
      "outputs": [
        {
          "output_type": "execute_result",
          "data": {
            "text/plain": [
              "[4, 6, 8]"
            ]
          },
          "metadata": {},
          "execution_count": 163
        }
      ]
    },
    {
      "cell_type": "markdown",
      "source": [
        "34\n",
        "\n",
        "콤마가 포함된 문자열 숫자를 입력받아 정수로 변환하는 convert_int 함수를 정의하라.\n",
        "\n",
        "```\n",
        "convert_int(\"1,234,567\")\n",
        "```\n",
        "```\n",
        "1234567\n",
        "```"
      ],
      "metadata": {
        "id": "ipEGBNRhTOZ_"
      }
    },
    {
      "cell_type": "code",
      "source": [
        "def convert_int(a):\n",
        "  b = int(a.replace(',',''))\n",
        "  print(b)\n",
        "\n",
        "convert_int(\"1,234,567\")"
      ],
      "metadata": {
        "id": "9ho3c77NTRRe",
        "colab": {
          "base_uri": "https://localhost:8080/"
        },
        "outputId": "845d7479-393a-483c-df55-2ab8d8cf1e1f"
      },
      "execution_count": null,
      "outputs": [
        {
          "output_type": "stream",
          "name": "stdout",
          "text": [
            "1234567\n"
          ]
        }
      ]
    },
    {
      "cell_type": "markdown",
      "source": [
        "35\n",
        "\n",
        "아래 코드의 실행 결과를 예측하라.\n",
        "\n",
        "```\n",
        "def 함수(num) :\n",
        "    return num + 4\n",
        "\n",
        "\n",
        "a = 함수(10)\n",
        "b = 함수(a)\n",
        "c = 함수(b)\n",
        "print(c)\n",
        "```"
      ],
      "metadata": {
        "id": "TEKwZi1NTS_j"
      }
    },
    {
      "cell_type": "code",
      "source": [
        "def 함수(num) :\n",
        "    return num + 4\n",
        "\n",
        "\n",
        "a = 함수(10)\n",
        "b = 함수(a)\n",
        "c = 함수(b)\n",
        "print(c)"
      ],
      "metadata": {
        "id": "AeJIk70vTVbH",
        "colab": {
          "base_uri": "https://localhost:8080/"
        },
        "outputId": "9776cc5d-f131-483d-d81f-5f34d6e3c6a5"
      },
      "execution_count": null,
      "outputs": [
        {
          "output_type": "stream",
          "name": "stdout",
          "text": [
            "22\n"
          ]
        }
      ]
    },
    {
      "cell_type": "markdown",
      "source": [
        "36\n",
        "\n",
        "아래 코드의 실행 결과를 예측하라.\n",
        "\n",
        "```\n",
        "def 함수(num) :\n",
        "    return num + 4\n",
        "\n",
        "c = 함수(함수(함수(10)))\n",
        "print(c)\n",
        "```"
      ],
      "metadata": {
        "id": "838UmNADTXK2"
      }
    },
    {
      "cell_type": "code",
      "source": [
        "def 함수(num) :\n",
        "    return num + 4\n",
        "\n",
        "c = 함수(함수(함수(10)))\n",
        "print(c)\n",
        "#처음함수 실행시 값은14 다음 값 14+4 = 18 + 4 = 22\n",
        "#1번째 함수실행 = 10 + 4 = 14\n",
        "#2번째 함수실행 = 14(1번째 함수 반환값) + 4 = 18\n",
        "#3번째 함수실행 = 18(2번째 함수 반환값) + 4 = 22"
      ],
      "metadata": {
        "id": "l1DN9Nl3TZHO",
        "colab": {
          "base_uri": "https://localhost:8080/"
        },
        "outputId": "3f55c1a3-2363-49e2-b877-94c681b90c6f"
      },
      "execution_count": null,
      "outputs": [
        {
          "output_type": "stream",
          "name": "stdout",
          "text": [
            "22\n"
          ]
        }
      ]
    },
    {
      "cell_type": "markdown",
      "source": [
        "37\n",
        "\n",
        "아래 코드의 실행 결과를 예측하라.\n",
        "\n",
        "```\n",
        "def 함수1(num) :\n",
        "    return num + 4\n",
        "\n",
        "def 함수2(num) :\n",
        "    return num * 10\n",
        "\n",
        "a = 함수1(10)\n",
        "c = 함수2(a)\n",
        "print(c)\n",
        "```"
      ],
      "metadata": {
        "id": "_ffE0iAtTbve"
      }
    },
    {
      "cell_type": "code",
      "source": [
        "def 함수1(num) :\n",
        "    return num + 4\n",
        "\n",
        "def 함수2(num) :\n",
        "    return num * 10\n",
        "\n",
        "a = 함수1(10) #14\n",
        "c = 함수2(a) #140\n",
        "print(c)"
      ],
      "metadata": {
        "id": "5j8zq0skTd82",
        "colab": {
          "base_uri": "https://localhost:8080/"
        },
        "outputId": "7290e5d3-7ad3-454a-858a-e223d20153ca"
      },
      "execution_count": null,
      "outputs": [
        {
          "output_type": "stream",
          "name": "stdout",
          "text": [
            "140\n"
          ]
        }
      ]
    },
    {
      "cell_type": "markdown",
      "source": [
        "38\n",
        "\n",
        "아래 코드의 실행 결과를 예측하라.\n",
        "\n",
        "```\n",
        "def 함수1(num) :\n",
        "    return num + 4\n",
        "\n",
        "def 함수2(num) :\n",
        "    num = num + 2\n",
        "    return 함수1(num)\n",
        "\n",
        "c = 함수2(10)\n",
        "print(c)\n",
        "```"
      ],
      "metadata": {
        "id": "LXr2yvqVTgcR"
      }
    },
    {
      "cell_type": "code",
      "source": [
        "def 함수1(num) : #2번째 실행 1번실행 함수의 반환값이 입력값이됨(12) \n",
        "    return num + 4 #입력값(12)+4 = 최종 반환값: 16 \n",
        "\n",
        "def 함수2(num) : #1번 실행 입력값:10\n",
        "    num = num + 2 #입력값(10)+2 =12\n",
        "    return 함수1(num) # 반환값: 12\n",
        "\n",
        "c = 함수2(10)\n",
        "print(c)"
      ],
      "metadata": {
        "id": "3XH601oJTjul",
        "colab": {
          "base_uri": "https://localhost:8080/"
        },
        "outputId": "02676903-f223-48e0-da0d-89080241adab"
      },
      "execution_count": null,
      "outputs": [
        {
          "output_type": "stream",
          "name": "stdout",
          "text": [
            "16\n"
          ]
        }
      ]
    },
    {
      "cell_type": "markdown",
      "source": [
        "39\n",
        "아래 코드의 실행 결과를 예측하라.\n",
        "\n",
        "```\n",
        "def 함수0(num) :\n",
        "    return num * 2\n",
        "\n",
        "def 함수1(num) :\n",
        "    return 함수0(num + 2)\n",
        "\n",
        "def 함수2(num) :\n",
        "    num = num + 10\n",
        "    return 함수1(num)\n",
        "\n",
        "c = 함수2(2)\n",
        "print(c)\n",
        "```"
      ],
      "metadata": {
        "id": "S2Lred36TkuA"
      }
    },
    {
      "cell_type": "code",
      "source": [
        "def 함수0(num) : #두번째 실행함수의 반환값이 입력값이됨(14)\n",
        "    return num * 2 #입력값(12) * 4 = 28(최종 반환값)\n",
        "\n",
        "def 함수1(num) : #첫번째 실행함수의 반환값이 입력값이됨(12)\n",
        "    return 함수0(num + 2) #입력값(12) + 2 = 14(반환값)\n",
        "\n",
        "def 함수2(num) : #첫번째 실행 입력값: 2\n",
        "    num = num + 10 #입력값(2)+10 =12\n",
        "    return 함수1(num) # 반환값 12\n",
        "\n",
        "c = 함수2(2)\n",
        "print(c)"
      ],
      "metadata": {
        "id": "HwPkba8VTqA1",
        "colab": {
          "base_uri": "https://localhost:8080/"
        },
        "outputId": "ba8418a3-0faa-4216-d27c-02e5a719d7cf"
      },
      "execution_count": null,
      "outputs": [
        {
          "output_type": "stream",
          "name": "stdout",
          "text": [
            "28\n"
          ]
        }
      ]
    }
  ]
}